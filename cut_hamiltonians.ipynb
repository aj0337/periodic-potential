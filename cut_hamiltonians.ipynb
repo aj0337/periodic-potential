{
 "cells": [
  {
   "cell_type": "code",
   "execution_count": 30,
   "metadata": {},
   "outputs": [],
   "source": [
    "import numpy as np\n",
    "import matplotlib.pyplot as plt\n",
    "import pandas as pd\n",
    "import os"
   ]
  },
  {
   "cell_type": "markdown",
   "metadata": {},
   "source": [
    "This project involves looking at the effect of various potentials on various lengths of graphene both in 1 and 2 dimensions. Since it is time consuming to generate a Hamiltonian for each potential and each length, we look at two ways of speeding up the calculations.\n",
    "1. Generate the Hamiltonian for a large unit cell like 50 nm X 50 nm with no applied potential. If we then want to study a system of dimensions 20 nm X 10 nm, post process the TG_hr.dat of the large unit cell to remove all atoms and interactions above 20 nm in the x and 10 nm in the y.\n",
    "2. Regardless of the type and value of applied potential, obtain the Hamiltonian in the absence of potential and simply add the right potential values along the diagonals as a post processing step rather than through wanniertools."
   ]
  },
  {
   "cell_type": "code",
   "execution_count": 31,
   "metadata": {},
   "outputs": [],
   "source": [
    "def load_reference_data(filename):\n",
    "    df = pd.read_csv(filename, header=None, sep='\\s+')\n",
    "    df.columns = [\n",
    "        'R_vec_x', 'R_vec_y', 'R_vec_z',\n",
    "        'atom1_index', 'atom2_index',\n",
    "        'atom1_x_cart', 'atom1_y_cart', 'atom1_z_cart',\n",
    "        'atom1_x_frac', 'atom1_y_frac', 'atom1_z_frac',\n",
    "        'hopping_real', 'hopping_imag'\n",
    "    ]\n",
    "    return df\n",
    "\n",
    "def compare_dataframes_with_tolerance(df1, df2, tol=1e-4):\n",
    "    if not df1.columns.equals(df2.columns):\n",
    "        return False\n",
    "\n",
    "    float_cols = df1.select_dtypes(include=[np.float64, np.float32]).columns\n",
    "    for col in float_cols:\n",
    "        if not np.allclose(df1[col], df2[col], atol=tol, rtol=0):\n",
    "            return False\n",
    "\n",
    "    non_float_cols = df1.select_dtypes(exclude=[np.float64, np.float32]).columns\n",
    "    if not df1[non_float_cols].equals(df2[non_float_cols]):\n",
    "        return False\n",
    "\n",
    "    return True\n",
    "\n",
    "def write_to_file(output_path,data):\n",
    "    columns_to_write = ['R_vec_x', 'R_vec_y', 'R_vec_z', 'atom1_index', 'atom2_index', 'hopping_real', 'hopping_imag']\n",
    "\n",
    "    data_to_write = data[columns_to_write]\n",
    "\n",
    "\n",
    "    formatted_data = pd.DataFrame({\n",
    "    'R_vec_x': data_to_write['R_vec_x'].astype(int).apply('{:>4}'.format),\n",
    "    'R_vec_y': data_to_write['R_vec_y'].astype(int).apply('{:>4}'.format),\n",
    "    'R_vec_z': data_to_write['R_vec_z'].astype(int).apply('{:>4}'.format),\n",
    "    'atom1_index': data_to_write['atom1_index'].astype(int).apply('{:>4}'.format),\n",
    "    'atom2_index': data_to_write['atom2_index'].astype(int).apply('{:>4}'.format),\n",
    "    'hopping_real': data_to_write['hopping_real'].apply('{:>20.10E}'.format),\n",
    "    'hopping_imag': data_to_write['hopping_imag'].apply('{:>20.10E}'.format)\n",
    "})\n",
    "\n",
    "    formatted_string = formatted_data.apply(lambda x: ' '.join(x), axis=1)\n",
    "\n",
    "    os.makedirs(output_path, exist_ok=True)\n",
    "    with open(os.path.join(output_path, 'TG_hr_modified.dat'), 'w') as file:\n",
    "        file.write('\\n'.join(formatted_string))\n",
    "    print(\"File written successfully with specified format.\")"
   ]
  },
  {
   "cell_type": "code",
   "execution_count": 48,
   "metadata": {},
   "outputs": [],
   "source": [
    "origin_path = \"graphene/cut_hamiltonian/origin_3by3/potential_0\"\n",
    "origin_file = f\"{origin_path}/TG_hr_with_atom_coord.dat\"\n",
    "origin_data = load_reference_data(origin_file)\n",
    "\n",
    "reference_path = \"graphene/cut_hamiltonian/cut_2by2/Reference/potential_0\"\n",
    "reference_file = f\"{reference_path}/TG_hr_with_atom_coord.dat\"\n",
    "reference_data = load_reference_data(reference_file)"
   ]
  },
  {
   "cell_type": "code",
   "execution_count": 60,
   "metadata": {},
   "outputs": [
    {
     "data": {
      "text/plain": [
       "False"
      ]
     },
     "execution_count": 60,
     "metadata": {},
     "output_type": "execute_result"
    }
   ],
   "source": [
    "x_cut = 7.9\n",
    "y_cut = 4.9\n",
    "\n",
    "valid_indices = origin_data[(origin_data['atom1_x_cart'] <= x_cut) & (origin_data['atom1_y_cart'] <= y_cut)]['atom1_index'].unique()\n",
    "cut_data = origin_data[origin_data['atom1_index'].isin(valid_indices) & origin_data['atom2_index'].isin(valid_indices)]\n",
    "cut_data = cut_data[['R_vec_x', 'R_vec_y', 'R_vec_z', 'atom1_index', 'atom2_index', 'hopping_real', 'hopping_imag']]\n",
    "reference_data = reference_data[['R_vec_x', 'R_vec_y', 'R_vec_z', 'atom1_index', 'atom2_index', 'hopping_real', 'hopping_imag']]\n",
    "\n",
    "compare_dataframes_with_tolerance(cut_data, reference_data, tol=1e-4)"
   ]
  },
  {
   "cell_type": "code",
   "execution_count": 55,
   "metadata": {},
   "outputs": [
    {
     "name": "stdout",
     "output_type": "stream",
     "text": [
      "File written successfully with specified format.\n"
     ]
    }
   ],
   "source": [
    "output_path = \"graphene/cut_hamiltonian/cut_2by2\"\n",
    "write_to_file(output_path,cut_data)"
   ]
  },
  {
   "cell_type": "code",
   "execution_count": 56,
   "metadata": {},
   "outputs": [
    {
     "data": {
      "text/plain": [
       "array([0.710141, 1.420281, 2.840563, 3.550704, 4.970986, 5.681127,\n",
       "       7.101408, 7.811549])"
      ]
     },
     "execution_count": 56,
     "metadata": {},
     "output_type": "execute_result"
    }
   ],
   "source": [
    "cut_data[\"atom1_x_cart\"].unique()"
   ]
  },
  {
   "cell_type": "code",
   "execution_count": 57,
   "metadata": {},
   "outputs": [
    {
     "data": {
      "text/plain": [
       "array([1.23, 3.69, 2.46, 0.  ])"
      ]
     },
     "execution_count": 57,
     "metadata": {},
     "output_type": "execute_result"
    }
   ],
   "source": [
    "cut_data[\"atom1_y_cart\"].unique()"
   ]
  },
  {
   "cell_type": "code",
   "execution_count": 58,
   "metadata": {},
   "outputs": [
    {
     "data": {
      "text/plain": [
       "array([0.710141, 1.420281, 2.840563, 3.550704, 4.970986, 5.681127,\n",
       "       7.101408, 7.811549])"
      ]
     },
     "execution_count": 58,
     "metadata": {},
     "output_type": "execute_result"
    }
   ],
   "source": [
    "reference_data[\"atom1_x_cart\"].unique()"
   ]
  },
  {
   "cell_type": "code",
   "execution_count": 59,
   "metadata": {},
   "outputs": [
    {
     "data": {
      "text/plain": [
       "array([1.23, 3.69, 0.  , 2.46])"
      ]
     },
     "execution_count": 59,
     "metadata": {},
     "output_type": "execute_result"
    }
   ],
   "source": [
    "reference_data[\"atom1_y_cart\"].unique()"
   ]
  },
  {
   "cell_type": "code",
   "execution_count": null,
   "metadata": {},
   "outputs": [],
   "source": []
  }
 ],
 "metadata": {
  "kernelspec": {
   "display_name": "PAOFLOW",
   "language": "python",
   "name": "python3"
  },
  "language_info": {
   "codemirror_mode": {
    "name": "ipython",
    "version": 3
   },
   "file_extension": ".py",
   "mimetype": "text/x-python",
   "name": "python",
   "nbconvert_exporter": "python",
   "pygments_lexer": "ipython3",
   "version": "3.10.13"
  }
 },
 "nbformat": 4,
 "nbformat_minor": 2
}
