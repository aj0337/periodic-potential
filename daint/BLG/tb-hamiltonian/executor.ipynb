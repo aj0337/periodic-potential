{
 "cells": [
  {
   "cell_type": "code",
   "execution_count": 65,
   "metadata": {},
   "outputs": [],
   "source": [
    "import sys\n",
    "from pathlib import Path\n",
    "import os\n",
    "import numpy as np\n",
    "from tb_hamiltonian import TBHamiltonian\n",
    "from tb_hamiltonian.potentials import PotentialFactory\n",
    "from tb_hamiltonian.utils import get_structure\n",
    "\n",
    "sys.tracebacklimit = None\n",
    "\n",
    "# Necessary when connecting to a jupyterhub kernel running on daint via VScode. NOT required otherwise\n",
    "\n",
    "new_path = '/scratch/snx3000/ajayaraj/tests/periodic-potential/daint/BLG/tb-hamiltonian'\n",
    "os.chdir(new_path)\n"
   ]
  },
  {
   "cell_type": "code",
   "execution_count": 66,
   "metadata": {},
   "outputs": [],
   "source": [
    "# import ipcmagic\n",
    "# import ipyparallel as ipp\n",
    "# %ipcluster start -n 2 --launcher mpirun\n",
    "# c = ipp.Client()\n",
    "# c.ids"
   ]
  },
  {
   "cell_type": "code",
   "execution_count": 73,
   "metadata": {},
   "outputs": [],
   "source": [
    "nn = 1  # number of nearest neighbors | don't use 0!\n",
    "\n",
    "workdir = Path(\".\")\n",
    "\n",
    "# lengths\n",
    "# lx = 5.0  # length in x direction (Å)\n",
    "# ly = 2.7\n",
    "# # ly = lx / np.sqrt(3)  # length in y direction (Å) keeping the b/a ratio\n",
    "# lz = 10  # length in z direction (Å)\n",
    "# basepath = workdir / f\"len_{lx}x{round(ly,3)}/nn_{nn}\"\n",
    "\n",
    "# or, repetitions\n",
    "nx = 3  # number of repetitions in x direction\n",
    "ny = 3  # number of repetitions in y direction\n",
    "nz = 1  # number of repetitions in z direction\n",
    "basepath = workdir / f\"rep_{nx}x{ny}/nn_{nn}\"\n",
    "\n",
    "basepath.mkdir(parents=True, exist_ok=True)\n"
   ]
  },
  {
   "cell_type": "code",
   "execution_count": 74,
   "metadata": {},
   "outputs": [],
   "source": [
    "# Define structure\n",
    "\n",
    "structure = get_structure(\n",
    "    unit_cell_filepath=workdir / \"POSCAR\",  # local unit cell file\n",
    "    # lengths=(lx, ly, lz),\n",
    "    repetitions=(nx, ny, nz),\n",
    "    # structure_filepath=f\"{basepath}/POSCAR\"\n",
    ")\n",
    "\n",
    "structure.info[\"label\"] = \"BLG\"  # will show up at top of Hamiltonian output file\n",
    "\n",
    "structure.write(basepath / \"POSCAR\", format=\"vasp\")"
   ]
  },
  {
   "cell_type": "code",
   "execution_count": 75,
   "metadata": {},
   "outputs": [],
   "source": [
    "# Compute H\n",
    "\n",
    "H = TBHamiltonian(\n",
    "    structure=structure,\n",
    "    nearest_neighbor=nn,\n",
    "    distances=(0.0, 1.425, 2.468, 2.850),\n",
    "    hopping_parameters=(0.0, -2.7, 0.0, -0.27),\n",
    "    interlayer_coupling=0.33,\n",
    ")\n",
    "\n",
    "H.build()"
   ]
  },
  {
   "cell_type": "code",
   "execution_count": 70,
   "metadata": {},
   "outputs": [],
   "source": [
    "# Apply onsite term\n",
    "\n",
    "potential = PotentialFactory(\"null\")\n",
    "potential.params = {\n",
    "    \"amplitude\": 0.425,\n",
    "    # \"width\": 0.5,\n",
    "}\n",
    "H.update_onsite_terms(\n",
    "    onsite_term=0.0,\n",
    "    potential=potential,\n",
    "    alpha=(1.0, 1.0),\n",
    ")\n",
    "path = (\n",
    "    basepath / f\"{potential.name}\"\n",
    "    # / f\"amplitude_{potential.params['amplitude']}\"\n",
    "    # / f\"width_{potential.params['width']}\"\n",
    ")\n",
    "path.mkdir(parents=True, exist_ok=True)"
   ]
  },
  {
   "cell_type": "code",
   "execution_count": 71,
   "metadata": {},
   "outputs": [],
   "source": [
    "# Write H to file\n",
    "# %%px\n",
    "H.write_to_file(path)\n"
   ]
  },
  {
   "cell_type": "code",
   "execution_count": 72,
   "metadata": {},
   "outputs": [
    {
     "data": {
      "image/png": "[encoded data removed]",
      "text/plain": [
       "<Figure size 800x600 with 1 Axes>"
      ]
     },
     "metadata": {},
     "output_type": "display_data"
    }
   ],
   "source": [
    "# Plotting\n",
    "H.plot_bands(\n",
    "    high_sym_points={\n",
    "        \"Γ\": (0.00000, 0.00000, 0.00000),\n",
    "        \"A\": (0.00000, 0.30000, 0.00000),\n",
    "        \"P\": (0.00000, 0.33333, 0.00000),\n",
    "        \"B\": (0.00000, 0.36666, 0.00000),\n",
    "        \"X\": (0.00000, 0.50000, 0.00000),\n",
    "        \"Y\": (0.50000, 0.00000, 0.00000),\n",
    "        \"W\": (0.50000, 0.50000, 0.00000),\n",
    "        \"K\": (1.00000, 0.33333, 0.00000),\n",
    "        \"M\": (1.00000, 0.00000, 0.00000),\n",
    "    },\n",
    "    k_path=\"A P B\",\n",
    "    points_per_segment=144,\n",
    "    use_sparse_solver=True,\n",
    "    sparse_solver_params={\"k\": 40, \"sigma\": 1e-8},\n",
    "    use_mpi=False,\n",
    "    fig_params={\"ylim\":(-0.1,0.1)},\n",
    "    workdir=path,\n",
    "    mode=\"scatter\",\n",
    "    plot_params={\"s\":5}\n",
    ")"
   ]
  }
 ],
 "metadata": {
  "kernelspec": {
   "display_name": "CSCS Python",
   "language": "python",
   "name": "cscs"
  }
 },
 "nbformat": 4,
 "nbformat_minor": 4
}
