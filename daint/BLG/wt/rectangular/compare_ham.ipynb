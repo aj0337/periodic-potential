{
 "cells": [
  {
   "cell_type": "code",
   "execution_count": 1,
   "metadata": {},
   "outputs": [],
   "source": [
    "import numpy as np\n",
    "import matplotlib.pyplot as plt"
   ]
  },
  {
   "cell_type": "code",
   "execution_count": 2,
   "metadata": {},
   "outputs": [],
   "source": [
    "def compare_dataframes_with_tolerance(df1, df2, tol=1e-4):\n",
    "    if not df1.columns.equals(df2.columns):\n",
    "        return False\n",
    "\n",
    "    float_cols = df1.select_dtypes(include=[np.float64, np.float32]).columns\n",
    "    for col in float_cols:\n",
    "        if not np.allclose(df1[col], df2[col], atol=tol, rtol=0):\n",
    "            return False\n",
    "\n",
    "    non_float_cols = df1.select_dtypes(exclude=[np.float64, np.float32]).columns\n",
    "    if not df1[non_float_cols].equals(df2[non_float_cols]):\n",
    "        return False\n",
    "\n",
    "    return True"
   ]
  },
  {
   "cell_type": "code",
   "execution_count": 3,
   "metadata": {},
   "outputs": [
    {
     "name": "stdout",
     "output_type": "stream",
     "text": [
      "Dataframes match\n"
     ]
    }
   ],
   "source": [
    "import pandas as pd\n",
    "\n",
    "\n",
    "reference_file = f'wt/3x3/triangular/potential_0.1/TG_hr.dat'\n",
    "generated_file = f'generated/output/3x3/1/triangular/potential_0.1/TG_hr.dat'\n",
    "\n",
    "reference_data = pd.read_csv(reference_file, sep='\\s+', header=None, skiprows=5,\n",
    "                   names=['Rx', 'Ry', 'Rz', 'Atom_index_i', 'Atom_index_j', 'Value', 'Imaginary'])\n",
    "\n",
    "generated_data = pd.read_csv(generated_file,\n",
    "                             sep='\\s+',\n",
    "                             header=None,\n",
    "                             skiprows=5,\n",
    "                             names=[\n",
    "                                 'Rx', 'Ry', 'Rz', 'Atom_index_i',\n",
    "                                 'Atom_index_j', 'Value', 'Imaginary'\n",
    "                             ])\n",
    "\n",
    "sorted_reference_data = reference_data.sort_values(by=['Atom_index_i', 'Atom_index_j'])\n",
    "sorted_reference_data = sorted_reference_data.reset_index(drop=True)\n",
    "\n",
    "sorted_generated_data = generated_data.sort_values(by=['Atom_index_i', 'Atom_index_j'])\n",
    "sorted_generated_data = sorted_generated_data.reset_index(drop=True)\n",
    "\n",
    "if match := compare_dataframes_with_tolerance(\n",
    "    sorted_generated_data, sorted_reference_data\n",
    "):\n",
    "    print(\"Dataframes match\")\n",
    "else:\n",
    "    print(\"DataFrames don't match\")"
   ]
  },
  {
   "cell_type": "code",
   "execution_count": null,
   "metadata": {},
   "outputs": [],
   "source": []
  }
 ],
 "metadata": {
  "kernelspec": {
   "display_name": "Python 3",
   "language": "python",
   "name": "python3"
  },
  "language_info": {
   "codemirror_mode": {
    "name": "ipython",
    "version": 3
   },
   "file_extension": ".py",
   "mimetype": "text/x-python",
   "name": "python",
   "nbconvert_exporter": "python",
   "pygments_lexer": "ipython3",
   "version": "3.9.4"
  }
 },
 "nbformat": 4,
 "nbformat_minor": 2
}
