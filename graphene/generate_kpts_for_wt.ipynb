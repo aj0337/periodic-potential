{
 "cells": [
  {
   "cell_type": "code",
   "execution_count": null,
   "metadata": {},
   "outputs": [],
   "source": [
    "import random\n",
    "\n",
    "def generate_kpath_file(dk, kx_min=0, kx_max=1, ky_min=0, ky_max=1, special_points=[]):\n",
    "    with open(\"kpath.dat\", \"w\") as file:\n",
    "        file.write(\"KPATH_BULK\\n\")\n",
    "        num_paths = int((ky_max - ky_min) / dk) + 1\n",
    "        file.write(f\"{num_paths}\\n\")\n",
    "\n",
    "\n",
    "        for i in range(num_paths):\n",
    "            start_point = random.choice(\"ABCDEFGHIJKLMNOPQRSTUVWXYZ\")\n",
    "            end_point = random.choice(\"ABCDEFGHIJKLMNOPQRSTUVWXYZ\")\n",
    "            file.write(\n",
    "                f\"   {start_point}   {kx_min:.5f}   {ky_min + i * dk:.5f}   0.00000   {end_point}   {kx_max:.5f}   {ky_min + i * dk:.5f}   0.00000\\n\"\n",
    "            )\n",
    "\n",
    "\n",
    "        for point in special_points:\n",
    "            x, y, z = point\n",
    "            label1 = random.choice(\"ABCDEFGHIJKLMNOPQRSTUVWXYZ\")\n",
    "            label2 = random.choice(\"ABCDEFGHIJKLMNOPQRSTUVWXYZ\")\n",
    "            file.write(\n",
    "                f\"   {label1}   {x:.5f}   {y:.5f}   {z:.5f}    {label2}   {x:.5f}   {y + dk:.5f}   {z:.5f}\\n\"\n",
    "            )\n",
    "dk = 0.001\n",
    "# special_points = [[0, 0.3333, 0], [-0.5, 0.3333, 0], [0.5, 0.3333, 0]]\n",
    "generate_kpath_file(dk, kx_min=-2, kx_max=2, ky_min=-2, ky_max=2, )\n"
   ]
  }
 ],
 "metadata": {
  "language_info": {
   "name": "python"
  }
 },
 "nbformat": 4,
 "nbformat_minor": 2
}
