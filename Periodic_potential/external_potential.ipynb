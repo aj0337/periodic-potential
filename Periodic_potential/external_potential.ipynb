{
 "cells": [
  {
   "cell_type": "markdown",
   "metadata": {},
   "source": [
    "References:\n",
    "Theory of the electronic and transport properties of graphene under a periodic electric or magnetic field\n"
   ]
  },
  {
   "cell_type": "code",
   "execution_count": null,
   "metadata": {},
   "outputs": [],
   "source": [
    "import numpy as np\n",
    "import matplotlib.pyplot as plt\n",
    "from constants import *"
   ]
  },
  {
   "cell_type": "code",
   "execution_count": null,
   "metadata": {},
   "outputs": [],
   "source": [
    "def kronig_penney_potential(L, b, U0, num_points):\n",
    "    \"\"\"\n",
    "    Generate the Kronig-Penney potential.\n",
    "\n",
    "    Parameters:\n",
    "        L (float): The lattice constant (distance between potential wells).\n",
    "        b (float): The width of the potential wells.\n",
    "        U0 (float): The depth of the potential wells.\n",
    "        num_points (int): Number of points to generate the potential.\n",
    "\n",
    "    Returns:\n",
    "        numpy.ndarray: Array containing the Kronig-Penney potential values.\n",
    "    \"\"\"\n",
    "    x = np.linspace(0, 5*L, num_points)\n",
    "    V = -U0/2 * np.ones_like(x)\n",
    "\n",
    "    for i in range(num_points):\n",
    "        m = np.floor(x[i] / L)\n",
    "        if (L * m) <= x[i] < (L * m + b):\n",
    "            V[i] = U0/2\n",
    "    return V\n",
    "\n",
    "def plot_potential(x, V):\n",
    "    \"\"\"\n",
    "    Plot the Kronig-Penney potential.\n",
    "\n",
    "    Parameters:\n",
    "        x (numpy.ndarray): Array of x values.\n",
    "        V (numpy.ndarray): Array of potential values.\n",
    "    \"\"\"\n",
    "    plt.plot(x, V)\n",
    "    plt.xlabel('x')\n",
    "    plt.ylabel('V(x)')\n",
    "    plt.title('Kronig-Penney Potential')\n",
    "    plt.show()\n",
    "\n",
    "if __name__ == \"__main__\":\n",
    "    # Parameters for the Kronig-Penney potential\n",
    "    L = 20.0 * nm2m  # Lattice constant\n",
    "    b = L/2  # Width of the potential wells\n",
    "    epsL = 33 * meV2eV\n",
    "    U0 = 6*np.pi*epsL  # Depth of the potential wells\n",
    "    num_points = 1000  # Number of points to generate the potential\n",
    "\n",
    "    # Generate the Kronig-Penney potential\n",
    "    x_values = np.linspace(0, 5*L, num_points)\n",
    "    potential_values = kronig_penney_potential(L, b, U0, num_points)\n",
    "\n",
    "    # Plot the potential\n",
    "    plot_potential(x_values, potential_values)\n"
   ]
  },
  {
   "cell_type": "code",
   "execution_count": null,
   "metadata": {},
   "outputs": [],
   "source": [
    "def kronig_penney_potential(L, b, U0, x1,x2):\n",
    "\n",
    "    V1 = -U0/2\n",
    "    V2 = -U0/2\n",
    "    m1 = np.floor(x1 / L)\n",
    "    m2 = np.floor(x2 / L)\n",
    "    if (L * m1) <= x1 < (L * m1 + b):\n",
    "        V1 = U0/2\n",
    "    if (x1 == x2):\n",
    "        return V1\n",
    "    if (L * m2) <= x2 < (L * m2 + b):\n",
    "        V2 = U0/2.0\n",
    "    return V1 + V2"
   ]
  },
  {
   "cell_type": "code",
   "execution_count": null,
   "metadata": {},
   "outputs": [],
   "source": []
  }
 ],
 "metadata": {
  "kernelspec": {
   "display_name": "base",
   "language": "python",
   "name": "python3"
  },
  "language_info": {
   "codemirror_mode": {
    "name": "ipython",
    "version": 3
   },
   "file_extension": ".py",
   "mimetype": "text/x-python",
   "name": "python",
   "nbconvert_exporter": "python",
   "pygments_lexer": "ipython3",
   "version": "3.10.12"
  },
  "orig_nbformat": 4
 },
 "nbformat": 4,
 "nbformat_minor": 2
}
