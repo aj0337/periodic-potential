{
 "cells": [
  {
   "cell_type": "code",
   "execution_count": null,
   "metadata": {},
   "outputs": [],
   "source": [
    "import numpy as np\n",
    "import matplotlib.pyplot as plt\n"
   ]
  },
  {
   "cell_type": "code",
   "execution_count": null,
   "metadata": {},
   "outputs": [],
   "source": [
    "natoms = 16\n",
    "subdirectory = './potential_0'\n",
    "HR = np.zeros((natoms,natoms))\n",
    "Hdata = np.loadtxt(f'{subdirectory}/TG_hr.dat',skiprows=8,usecols=(3,4,5))\n",
    "for i in range(len(Hdata)):\n",
    "    atom1 = int(Hdata[i,0]-1)\n",
    "    atom2 = int(Hdata[i,1]-1)\n",
    "    HR[atom1,atom2] = Hdata[i,2]\n",
    "plt.matshow(HR)\n",
    "plt.title(f'{subdirectory}')\n",
    "plt.show()\n"
   ]
  },
  {
   "cell_type": "code",
   "execution_count": null,
   "metadata": {},
   "outputs": [],
   "source": []
  }
 ],
 "metadata": {
  "kernelspec": {
   "display_name": "Python 3",
   "language": "python",
   "name": "python3"
  },
  "language_info": {
   "codemirror_mode": {
    "name": "ipython",
    "version": 3
   },
   "file_extension": ".py",
   "mimetype": "text/x-python",
   "name": "python",
   "nbconvert_exporter": "python",
   "pygments_lexer": "ipython3",
   "version": "3.10.12"
  }
 },
 "nbformat": 4,
 "nbformat_minor": 2
}
