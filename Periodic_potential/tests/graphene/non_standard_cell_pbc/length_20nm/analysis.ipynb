{
 "cells": [
  {
   "cell_type": "code",
   "execution_count": null,
   "metadata": {},
   "outputs": [],
   "source": [
    "import numpy as np\n",
    "import matplotlib.pyplot as plt\n",
    "import os\n",
    "import pandas as pd\n"
   ]
  },
  {
   "cell_type": "code",
   "execution_count": null,
   "metadata": {},
   "outputs": [],
   "source": [
    "directory_path = \"./\"\n",
    "def extract_subdirectories(directory_path):\n",
    "    subdirectories = []\n",
    "    for foldername, subfolders, filenames in os.walk(directory_path):\n",
    "        subdirectories.extend(\n",
    "            subfolder\n",
    "            for subfolder in subfolders\n",
    "            if subfolder.startswith(\"potential_\")\n",
    "        )\n",
    "    return subdirectories\n",
    "\n",
    "# subdirectories_list = extract_subdirectories(directory_path)\n",
    "subdirectories_list = ['potential_0','potential_.1','potential_1']\n"
   ]
  },
  {
   "cell_type": "code",
   "execution_count": null,
   "metadata": {},
   "outputs": [],
   "source": [
    "file = 'TG_hr_with_atom_coord.dat'\n",
    "structure = np.loadtxt(file, usecols=(3,5,6,7))\n",
    "df = pd.DataFrame(structure)\n",
    "column_name = 0\n",
    "df = df.drop_duplicates(subset=column_name).reindex()\n"
   ]
  },
  {
   "cell_type": "code",
   "execution_count": null,
   "metadata": {},
   "outputs": [],
   "source": [
    "\n",
    "x = df[1]\n",
    "y = df[2]\n",
    "lattice_period =204.52057\n",
    "L = lattice_period # should be calculated as the x coord of the first lattice vector\n",
    "b = L/2 #should be the x-coordinate of the mid point of the ribbon\n",
    "\n",
    "U0 =  5\n",
    "colors = []\n",
    "for i in range(len(x)):\n",
    "    # if 0 <= x.iloc[i] < b:\n",
    "    if x.iloc[i] <= b:\n",
    "        V = U0 / 2.0\n",
    "        color = 'red'\n",
    "    else:\n",
    "        V = -U0 / 2.0\n",
    "        color = 'black'\n",
    "    colors.append(color)\n",
    "# plt.figure(figsize=(16,2))\n",
    "plt.scatter(x, y, c=colors, cmap=plt.cm.get_cmap('coolwarm', 2))\n",
    "plt.show()\n"
   ]
  },
  {
   "cell_type": "code",
   "execution_count": null,
   "metadata": {},
   "outputs": [],
   "source": [
    "natoms = 192\n",
    "subdirectories_list = ['./potential_.1']\n",
    "for subdirectory in subdirectories_list:\n",
    "    Hk = np.zeros((natoms,natoms))\n",
    "    Hdata = np.loadtxt(f'{subdirectory}/TG_hr.dat',skiprows=8,usecols=(3,4,5))\n",
    "    for i in range(len(Hdata)):\n",
    "        atom1 = int(Hdata[i,0]-1)\n",
    "        atom2 = int(Hdata[i,1]-1)\n",
    "        Hk[atom1,atom2] = Hdata[i,2]\n",
    "    plt.matshow(Hk)\n",
    "    plt.title(f'{subdirectory}')\n",
    "    plt.show()\n"
   ]
  },
  {
   "cell_type": "code",
   "execution_count": null,
   "metadata": {},
   "outputs": [],
   "source": []
  },
  {
   "cell_type": "code",
   "execution_count": null,
   "metadata": {},
   "outputs": [],
   "source": []
  }
 ],
 "metadata": {
  "kernelspec": {
   "display_name": "Python 3",
   "language": "python",
   "name": "python3"
  },
  "language_info": {
   "codemirror_mode": {
    "name": "ipython",
    "version": 3
   },
   "file_extension": ".py",
   "mimetype": "text/x-python",
   "name": "python",
   "nbconvert_exporter": "python",
   "pygments_lexer": "ipython3",
   "version": "3.10.12"
  }
 },
 "nbformat": 4,
 "nbformat_minor": 2
}
