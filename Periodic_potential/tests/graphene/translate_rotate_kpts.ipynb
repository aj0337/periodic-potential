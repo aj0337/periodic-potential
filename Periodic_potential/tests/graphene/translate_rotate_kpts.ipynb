{
 "cells": [
  {
   "cell_type": "code",
   "execution_count": 1,
   "metadata": {},
   "outputs": [],
   "source": [
    "import numpy as np\n",
    "import matplotlib.pyplot as plt"
   ]
  },
  {
   "cell_type": "code",
   "execution_count": 8,
   "metadata": {},
   "outputs": [],
   "source": [
    "def split_data_by_bands(filename):\n",
    "    bands = []\n",
    "    current_band_data = []\n",
    "\n",
    "    with open(filename, 'r') as file:\n",
    "        next(file)\n",
    "\n",
    "        for line in file:\n",
    "            if line.strip():  # Check if the line is not empty\n",
    "                data = line.split()\n",
    "                current_band_data.append([float(val) for val in data])\n",
    "            else:\n",
    "                bands.append(current_band_data)\n",
    "                current_band_data = []\n",
    "\n",
    "        if current_band_data:\n",
    "            bands.append(current_band_data)\n",
    "\n",
    "    return bands\n",
    "\n",
    "def filter_by_k_value(df, column_name, value):\n",
    "    \"\"\"\n",
    "    Filter the DataFrame `df` for rows where `column_name` matches `value`.\n",
    "\n",
    "    Parameters:\n",
    "        df (pd.DataFrame): The DataFrame to filter (e.g., cb1 or cb2).\n",
    "        column_name (str): The name of the column to filter by ('kx' or 'ky').\n",
    "        value (float): The value to filter for in the specified column.\n",
    "\n",
    "    Returns:\n",
    "        pd.DataFrame: A DataFrame containing only the rows where the column value matches the input.\n",
    "    \"\"\"\n",
    "    if column_name not in ['kx', 'ky']:\n",
    "        raise ValueError(\"Column name must be 'kx' or 'ky'\")\n",
    "\n",
    "    filtered_df = df[df[column_name] == value]\n",
    "    return filtered_df\n"
   ]
  },
  {
   "cell_type": "code",
   "execution_count": 2,
   "metadata": {},
   "outputs": [],
   "source": [
    "root = \"non_standard_cell_pbc/length_10nm/3dbands/potential_0\""
   ]
  },
  {
   "cell_type": "code",
   "execution_count": 11,
   "metadata": {},
   "outputs": [],
   "source": [
    "data = split_data_by_bands(filename=f\"{root}/bulkek.dat\")\n",
    "data = np.array(data)"
   ]
  },
  {
   "cell_type": "code",
   "execution_count": 12,
   "metadata": {},
   "outputs": [
    {
     "data": {
      "text/plain": [
       "(96, 4141, 5)"
      ]
     },
     "execution_count": 12,
     "metadata": {},
     "output_type": "execute_result"
    }
   ],
   "source": [
    "data.shape"
   ]
  },
  {
   "cell_type": "code",
   "execution_count": 93,
   "metadata": {},
   "outputs": [],
   "source": [
    "cb1 = data[48][:, [0, 1, 2, 4 ]]\n",
    "cb2 = data[49][:, [0, 1, 2, 4 ]]"
   ]
  },
  {
   "cell_type": "code",
   "execution_count": 144,
   "metadata": {},
   "outputs": [],
   "source": [
    "from copy import deepcopy\n",
    "\n",
    "cb1t = deepcopy(cb1)"
   ]
  },
  {
   "cell_type": "code",
   "execution_count": 145,
   "metadata": {},
   "outputs": [],
   "source": [
    "kpts = cb1t[:, [0, 1, 2]]"
   ]
  },
  {
   "cell_type": "code",
   "execution_count": 146,
   "metadata": {},
   "outputs": [
    {
     "data": {
      "text/plain": [
       "array([0.8660254, 0.5      , 0.       ])"
      ]
     },
     "execution_count": 146,
     "metadata": {},
     "output_type": "execute_result"
    }
   ],
   "source": [
    "kpt = np.array([1, 0, 0])\n",
    "# rotation by 30 should yield [0.5, 0.87, 0]\n",
    "\n",
    "theta = np.deg2rad(30)\n",
    "M = np.array(\n",
    "    [\n",
    "        [np.cos(theta), -np.sin(theta), 0],\n",
    "        [np.sin(theta), np.cos(theta), 0],\n",
    "        [0, 0, 1],\n",
    "    ],\n",
    ")\n",
    "M\n",
    "M.dot(kpt.T).T"
   ]
  },
  {
   "cell_type": "code",
   "execution_count": 147,
   "metadata": {},
   "outputs": [],
   "source": [
    "cb1t[:, [0, 1, 2]] = M.dot(kpts.T).T"
   ]
  },
  {
   "cell_type": "code",
   "execution_count": 148,
   "metadata": {},
   "outputs": [],
   "source": [
    "dirac = np.array([0.5,0.33,0])\n",
    "dirac_t = M.dot(dirac)\n",
    "dirac_t\n",
    "cb1t[:, [0, 1, 2]] -= dirac_t"
   ]
  },
  {
   "cell_type": "code",
   "execution_count": 152,
   "metadata": {},
   "outputs": [
    {
     "ename": "IndexError",
     "evalue": "boolean index did not match indexed array along dimension 1; dimension is 4 but corresponding boolean dimension is 3",
     "output_type": "error",
     "traceback": [
      "\u001b[0;31m---------------------------------------------------------------------------\u001b[0m",
      "\u001b[0;31mIndexError\u001b[0m                                Traceback (most recent call last)",
      "Cell \u001b[0;32mIn[152], line 1\u001b[0m\n\u001b[0;32m----> 1\u001b[0m \u001b[43mcb1t\u001b[49m\u001b[43m[\u001b[49m\u001b[43mcb1t\u001b[49m\u001b[43m[\u001b[49m\u001b[43m:\u001b[49m\u001b[43m,\u001b[49m\u001b[43m \u001b[49m\u001b[43m:\u001b[49m\u001b[38;5;241;43m3\u001b[39;49m\u001b[43m]\u001b[49m\u001b[43m \u001b[49m\u001b[38;5;241;43m==\u001b[39;49m\u001b[43m \u001b[49m\u001b[43m[\u001b[49m\u001b[38;5;241;43m0\u001b[39;49m\u001b[43m,\u001b[49m\u001b[43m \u001b[49m\u001b[38;5;241;43m0\u001b[39;49m\u001b[43m,\u001b[49m\u001b[43m \u001b[49m\u001b[38;5;241;43m0\u001b[39;49m\u001b[43m]\u001b[49m\u001b[43m]\u001b[49m\n",
      "\u001b[0;31mIndexError\u001b[0m: boolean index did not match indexed array along dimension 1; dimension is 4 but corresponding boolean dimension is 3"
     ]
    }
   ],
   "source": [
    "cb1t[cb1t[:, :3] == [0, 0, 0]]"
   ]
  },
  {
   "cell_type": "code",
   "execution_count": 158,
   "metadata": {},
   "outputs": [
    {
     "data": {
      "text/plain": [
       "(array([1716]),)"
      ]
     },
     "execution_count": 158,
     "metadata": {},
     "output_type": "execute_result"
    }
   ],
   "source": [
    "np.where(cb1t[:, 0] == 0)"
   ]
  },
  {
   "cell_type": "code",
   "execution_count": 159,
   "metadata": {},
   "outputs": [
    {
     "data": {
      "text/plain": [
       "array([0.        , 0.        , 0.        , 0.18483814])"
      ]
     },
     "execution_count": 159,
     "metadata": {},
     "output_type": "execute_result"
    }
   ],
   "source": [
    "K_ind = 1716"
   ]
  },
  {
   "cell_type": "code",
   "execution_count": null,
   "metadata": {},
   "outputs": [],
   "source": []
  }
 ],
 "metadata": {
  "kernelspec": {
   "display_name": "PAOFLOW",
   "language": "python",
   "name": "python3"
  },
  "language_info": {
   "codemirror_mode": {
    "name": "ipython",
    "version": 3
   },
   "file_extension": ".py",
   "mimetype": "text/x-python",
   "name": "python",
   "nbconvert_exporter": "python",
   "pygments_lexer": "ipython3",
   "version": "3.10.13"
  }
 },
 "nbformat": 4,
 "nbformat_minor": 2
}
