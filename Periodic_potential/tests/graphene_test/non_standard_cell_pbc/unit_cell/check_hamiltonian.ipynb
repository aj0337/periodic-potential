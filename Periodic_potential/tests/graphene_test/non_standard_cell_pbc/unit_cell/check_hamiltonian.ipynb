{
 "cells": [
  {
   "cell_type": "code",
   "execution_count": null,
   "metadata": {},
   "outputs": [],
   "source": [
    "import numpy as np\n",
    "import matplotlib.pyplot as plt\n"
   ]
  },
  {
   "cell_type": "code",
   "execution_count": null,
   "metadata": {},
   "outputs": [],
   "source": [
    "natoms = 4\n",
    "subdirectory = '.'\n",
    "HR = np.zeros((natoms,natoms))\n",
    "Hdata = np.loadtxt(f'{subdirectory}/TG_hr.dat',skiprows=8,usecols=(3,4,5))\n",
    "for i in range(len(Hdata)):\n",
    "    atom1 = int(Hdata[i,0]-1)\n",
    "    atom2 = int(Hdata[i,1]-1)\n",
    "    HR[atom1,atom2] = Hdata[i,2]\n",
    "plt.matshow(HR)\n",
    "for i in range(HR.shape[0]):\n",
    "    for j in range(HR.shape[1]):\n",
    "        plt.text(j, i, str(HR[i, j]), va='center', ha='center', color='white')\n",
    "\n",
    "plt.title(f'{subdirectory}')\n",
    "plt.show()\n"
   ]
  },
  {
   "cell_type": "code",
   "execution_count": null,
   "metadata": {},
   "outputs": [],
   "source": [
    "HR"
   ]
  },
  {
   "cell_type": "code",
   "execution_count": null,
   "metadata": {},
   "outputs": [],
   "source": [
    "A = np.array([ 0.000000000000000E+000,\n",
    "0.000000000000000E+000,\n",
    "-9.922317441761969E-002,\n",
    "-0.198446348835239,\n",
    "0.000000000000000E+000,\n",
    "0.000000000000000E+000,\n",
    "-0.198446348835239,\n",
    "-9.922317441761969E-002,\n",
    "-9.922317441761969E-002,\n",
    "-0.198446348835239,\n",
    "0.000000000000000E+000,\n",
    "0.000000000000000E+000,\n",
    "-0.198446348835239,\n",
    "-9.922317441761969E-002,\n",
    "0.000000000000000E+000,\n",
    "0.000000000000000E+000,])"
   ]
  },
  {
   "cell_type": "code",
   "execution_count": null,
   "metadata": {},
   "outputs": [],
   "source": [
    "A = np.round(A,4)\n",
    "Hk = A.reshape((4,4))"
   ]
  },
  {
   "cell_type": "code",
   "execution_count": null,
   "metadata": {},
   "outputs": [],
   "source": [
    "plt.matshow(Hk)\n",
    "for i in range(Hk.shape[0]):\n",
    "    for j in range(Hk.shape[1]):\n",
    "        plt.text(j, i, str(Hk[i, j]), va='center', ha='center', color='white')"
   ]
  },
  {
   "cell_type": "code",
   "execution_count": null,
   "metadata": {},
   "outputs": [],
   "source": [
    "import numpy as np\n",
    "\n",
    "def compute_transformation_matrix(matrix_A, matrix_B):\n",
    "    # Convert input matrices to NumPy arrays\n",
    "    A = np.array(matrix_A)\n",
    "    B = np.array(matrix_B)\n",
    "\n",
    "    # Calculate the inverse of matrix A\n",
    "    A_inv = np.linalg.inv(A)\n",
    "\n",
    "    # Calculate the transformation matrix M\n",
    "    M = np.dot(B, A_inv)\n",
    "\n",
    "    return M\n",
    "\n",
    "# Example matrices A and B\n",
    "matrix_A = [\n",
    "    [2.4600000381, 0.0000000000, 0.0000000000],\n",
    "    [-1.2300000191, 2.1304225263, 0.0000000000],\n",
    "    [0.0000000000, 0.0000000000, 10.0000000000]\n",
    "]\n",
    "\n",
    "matrix_B = [\n",
    "    [4.2608451843, 0.0000000000, 0.0000000000],\n",
    "    [0.0000000000, 2.4599997997, 0.0000000000],\n",
    "    [0.0000000000, 0.0000000000, 10.0000000000]\n",
    "]\n",
    "\n",
    "# Compute the transformation matrix\n",
    "transformation_matrix = compute_transformation_matrix(matrix_A, matrix_B)\n",
    "\n",
    "print(transformation_matrix)\n",
    "k = np.array([0.0, 0.5, 0])\n",
    "\n",
    "# Apply transformation matrix on vector k\n",
    "k_transformed = np.dot(transformation_matrix, k)\n",
    "\n",
    "# Print the result\n",
    "print(\"Original Vector k:\", k)\n",
    "print(\"Transformed Vector k':\", k_transformed)"
   ]
  },
  {
   "cell_type": "code",
   "execution_count": null,
   "metadata": {},
   "outputs": [],
   "source": []
  }
 ],
 "metadata": {
  "kernelspec": {
   "display_name": "Python 3",
   "language": "python",
   "name": "python3"
  },
  "language_info": {
   "codemirror_mode": {
    "name": "ipython",
    "version": 3
   },
   "file_extension": ".py",
   "mimetype": "text/x-python",
   "name": "python",
   "nbconvert_exporter": "python",
   "pygments_lexer": "ipython3",
   "version": "3.10.13"
  }
 },
 "nbformat": 4,
 "nbformat_minor": 2
}
