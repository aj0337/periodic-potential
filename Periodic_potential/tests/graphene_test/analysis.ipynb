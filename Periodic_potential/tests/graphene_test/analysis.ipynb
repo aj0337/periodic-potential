{
 "cells": [
  {
   "cell_type": "code",
   "execution_count": null,
   "metadata": {},
   "outputs": [],
   "source": [
    "import matplotlib.pyplot as plt\n",
    "from scipy.linalg import eigh,eig\n",
    "import sys\n",
    "sys.path.insert(1,'/home/anooja/Dropbox/anooja/EMPA/BG_periodic_potential_Jian/')\n",
    "from Periodic_potential import *\n"
   ]
  },
  {
   "cell_type": "markdown",
   "metadata": {},
   "source": [
    "##  Testing in Phi space rather than kdotr space"
   ]
  },
  {
   "cell_type": "code",
   "execution_count": null,
   "metadata": {},
   "outputs": [],
   "source": [
    "filename = './TG_hr_iR3_no_hr_cutoff.dat'\n",
    "num_atom, np_data, pd_data = read_data(filename,sparse=True)\n",
    "kpath,_ = build_phipath_GammaKMGamma()\n",
    "npts = len(kpath)\n",
    "R_cell = pd_data[[0, 1, 2]].drop_duplicates().reset_index(drop=True)\n",
    "n_r = len(R_cell)\n",
    "dim = (n_r, num_atom, num_atom)\n",
    "HR = build_realspace_H(dim,pd_data,R_cell.to_numpy())\n",
    "Hk = build_phispace_H(np_data,num_atom,HR,R_cell,kpath)\n",
    "bands = []\n",
    "for npt in range(npts):\n",
    "    eigenergies, _ = eigh(Hk[npt])\n",
    "    bands.append(eigenergies)\n",
    "bands = (np.array(bands))\n",
    "x = np.arange(0,npts,1)\n",
    "\n",
    "# xlabel = path\n",
    "# xtics = [0,199,249,349]\n",
    "plt.plot(x,bands[:,0],c='r')\n",
    "plt.plot(x,bands[:,1],c='black')\n",
    "# plt.xticks(xtics,labels=xlabel)\n",
    "plt.show()\n"
   ]
  },
  {
   "cell_type": "code",
   "execution_count": null,
   "metadata": {},
   "outputs": [],
   "source": [
    "filename = './TG_hr_iR3_no_hr_cutoff.dat'\n",
    "num_atom, np_data, pd_data = read_data(filename,sparse=True)\n",
    "kpath,_ = build_phipath_2D_MKGammaKpM(30)\n",
    "npts = len(kpath)\n",
    "R_cell = pd_data[[0, 1, 2]].drop_duplicates().reset_index(drop=True)\n",
    "n_r = len(R_cell)\n",
    "dim = (n_r, num_atom, num_atom)\n",
    "HR = build_realspace_H(dim,pd_data,R_cell.to_numpy())\n",
    "Hk = build_phispace_H(np_data,num_atom,HR,R_cell,kpath)\n",
    "bands = []\n",
    "for npt in range(npts):\n",
    "    eigenergies, _ = eigh(Hk[npt])\n",
    "    bands.append(eigenergies)\n",
    "bands = (np.array(bands))\n",
    "x = np.arange(0,npts,1)\n",
    "\n",
    "# xlabel = path\n",
    "# xtics = [0,199,249,349]\n",
    "plt.plot(x,bands[:,0],c='r')\n",
    "plt.plot(x,bands[:,1],c='black')\n",
    "# plt.xticks(xtics,labels=xlabel)\n",
    "plt.show()\n"
   ]
  },
  {
   "cell_type": "code",
   "execution_count": null,
   "metadata": {},
   "outputs": [],
   "source": [
    "filename = './TG_hr_only_t1.dat'\n",
    "num_atom, np_data, pd_data = read_data(filename,sparse=True)\n",
    "phipath,_ = build_phipath_GammaKMGamma(30)\n",
    "npts = len(phipath)\n",
    "R_cell = pd_data[[0, 1, 2]].drop_duplicates().reset_index(drop=True)\n",
    "n_r = len(R_cell)\n",
    "dim = (n_r, num_atom, num_atom)\n",
    "HR1 = build_realspace_H(dim,pd_data,R_cell.to_numpy())\n",
    "Hk1 = build_phispace_H(np_data,num_atom,HR1,R_cell,phipath)\n",
    "\n",
    "bands1 = []\n",
    "for npt in range(npts):\n",
    "    eigenergies, _ = eigh(Hk1[npt])\n",
    "    bands1.append(eigenergies)\n",
    "bands1 = (np.array(bands1))\n",
    "x = np.arange(0,npts,1)\n",
    "\n",
    "# xlabel = path\n",
    "# xtics = [0,199,249,349]\n",
    "plt.plot(x,bands1[:,0],c='r')\n",
    "plt.plot(x,bands1[:,1],c='black')\n",
    "# plt.xticks(xtics,labels=xlabel)\n",
    "plt.show()\n"
   ]
  },
  {
   "cell_type": "code",
   "execution_count": null,
   "metadata": {},
   "outputs": [],
   "source": [
    "Hk1[4]\n"
   ]
  },
  {
   "cell_type": "code",
   "execution_count": null,
   "metadata": {},
   "outputs": [],
   "source": [
    "eigenergies, _ = eigh(Hk1[4])\n",
    "eigenergies\n"
   ]
  },
  {
   "cell_type": "code",
   "execution_count": null,
   "metadata": {},
   "outputs": [],
   "source": [
    "print(bands1[:,0])\n"
   ]
  },
  {
   "cell_type": "code",
   "execution_count": null,
   "metadata": {},
   "outputs": [],
   "source": [
    "filename = './TG_hr_2by2.dat'\n",
    "num_atom, np_data, pd_data = read_data(filename,sparse=True)\n",
    "phipath,_ = build_phipath_GammaKMGamma(30)\n",
    "npts = len(phipath)\n",
    "R_cell = pd_data[[0, 1, 2]].drop_duplicates().reset_index(drop=True)\n",
    "n_r = len(R_cell)\n",
    "dim = (n_r, num_atom, num_atom)\n",
    "HR = build_realspace_H(dim,pd_data,R_cell.to_numpy())\n",
    "Hk = build_phispace_H(np_data,num_atom,HR,R_cell,phipath)\n",
    "\n",
    "bands = []\n",
    "for npt in range(npts):\n",
    "    eigenergies, _ = eigh(Hk[npt])\n",
    "    bands.append(eigenergies)\n",
    "bands = (np.array(bands))\n",
    "x = np.arange(0,npts,1)\n",
    "\n",
    "# xlabel = path\n",
    "# xtics = [0,199,249,349]\n",
    "plt.plot(x,bands[:,0:],'-.')\n",
    "# plt.plot(x,bands[:,1],c='black')\n",
    "# plt.xticks(xtics,labels=xlabel)\n",
    "plt.show()\n"
   ]
  },
  {
   "cell_type": "code",
   "execution_count": null,
   "metadata": {},
   "outputs": [],
   "source": [
    "pd.DataFrame(Hk[4])\n"
   ]
  },
  {
   "cell_type": "code",
   "execution_count": null,
   "metadata": {},
   "outputs": [],
   "source": [
    "pd.DataFrame(Hk[0])\n"
   ]
  },
  {
   "cell_type": "code",
   "execution_count": null,
   "metadata": {},
   "outputs": [],
   "source": [
    "eigenergies, _ = eigh(Hk[0])\n",
    "eigenergies\n"
   ]
  },
  {
   "cell_type": "code",
   "execution_count": null,
   "metadata": {},
   "outputs": [],
   "source": []
  },
  {
   "cell_type": "code",
   "execution_count": null,
   "metadata": {},
   "outputs": [],
   "source": [
    "eigenergies, _ = eigh(Hk[4])\n",
    "eigenergies\n"
   ]
  },
  {
   "cell_type": "code",
   "execution_count": null,
   "metadata": {},
   "outputs": [],
   "source": [
    "eigenergies, _ = eigh(Hk[4])\n",
    "eigenergies\n"
   ]
  },
  {
   "cell_type": "code",
   "execution_count": null,
   "metadata": {},
   "outputs": [],
   "source": [
    "print(bands[:,3])\n",
    "print(len(bands[:,3]))\n"
   ]
  },
  {
   "cell_type": "code",
   "execution_count": null,
   "metadata": {},
   "outputs": [],
   "source": [
    "print(bands[:,2])\n"
   ]
  },
  {
   "cell_type": "code",
   "execution_count": null,
   "metadata": {},
   "outputs": [],
   "source": [
    "print(bands[:,0])\n",
    "print(len(bands[:,0]))\n"
   ]
  },
  {
   "cell_type": "markdown",
   "metadata": {},
   "source": [
    "# Testing kdotR space\n"
   ]
  },
  {
   "cell_type": "code",
   "execution_count": null,
   "metadata": {},
   "outputs": [],
   "source": [
    "filename = './TG_hr.dat'\n",
    "num_atom, np_data, pd_data = read_data(filename,sparse=True)\n",
    "r1 = np_data[:,[5,6,7]]\n",
    "r2 = np_data[:,[8,9,10]]\n",
    "R_cell = pd_data[[0, 1, 2]].drop_duplicates().reset_index(drop=True)\n",
    "n_r = len(R_cell)\n",
    "dim = (n_r, num_atom, num_atom)\n",
    "HR = build_realspace_H(dim,pd_data,R_cell.to_numpy())\n",
    "path = ['G','K','M','G']\n",
    "segment_points = [[0,0,0],[0.66667,-0.66667,0.00000],[0.50000,-0.50000,0.00000],[0,0,0]]\n",
    "npts_per_segment = [100,50,100,0]\n",
    "dCC=1.42\n",
    "kpath = build_kpath(segment_points,npts_per_segment)\n",
    "# kpath_cart = k_direct_to_cart(kpath,dCC)\n",
    "npts = len(kpath)\n",
    "Hk = (build_kspace_H(np_data,num_atom,HR,R_cell,kpath))\n",
    "bands = []\n",
    "for npt in range(npts):\n",
    "    eigenergies, _ = eigh(Hk[npt])\n",
    "    bands.append(eigenergies)\n",
    "bands = (np.array(bands))\n",
    "x = np.arange(0,npts,1)\n",
    "\n",
    "# xlabel = path\n",
    "# xtics = [0,199,249,349]\n",
    "plt.plot(x,bands[:,0],c='r')\n",
    "plt.plot(x,bands[:,1],c='black')\n",
    "# plt.xticks(xtics,labels=xlabel)\n",
    "plt.show()\n"
   ]
  },
  {
   "cell_type": "code",
   "execution_count": null,
   "metadata": {},
   "outputs": [],
   "source": [
    "filename = './standard_cell/kronig_penney/length_0.98nm/potential_0/TG_hr_with_atom_coord.dat'\n",
    "num_atom, np_data, pd_data = read_data(filename,skiprows=0,sparse=True)\n",
    "kpath,_ = build_phipath_GammaKMGamma()\n",
    "npts = len(kpath)\n",
    "R_cell = pd_data[[0, 1, 2]].drop_duplicates().reset_index(drop=True)\n",
    "n_r = len(R_cell)\n",
    "dim = (n_r, num_atom, num_atom)\n",
    "print(dim)\n",
    "HR = build_realspace_H(dim,pd_data,R_cell.to_numpy())\n",
    "Hk = build_phispace_H(np_data,num_atom,HR,R_cell,kpath)\n",
    "bands = []\n",
    "for npt in range(npts):\n",
    "    eigenergies, _ = eigh(Hk[npt])\n",
    "    bands.append(eigenergies)\n",
    "bands = (np.array(bands))\n",
    "x = np.arange(0,npts,1)\n",
    "\n",
    "# xlabel = path\n",
    "# xtics = [0,199,249,349]\n",
    "plt.plot(x,bands[:,0],c='r')\n",
    "plt.plot(x,bands[:,1],c='black')\n",
    "# plt.xticks(xtics,labels=xlabel)\n",
    "plt.show()\n"
   ]
  },
  {
   "cell_type": "code",
   "execution_count": null,
   "metadata": {},
   "outputs": [],
   "source": []
  }
 ],
 "metadata": {
  "kernelspec": {
   "display_name": "Python 3",
   "language": "python",
   "name": "python3"
  },
  "language_info": {
   "codemirror_mode": {
    "name": "ipython",
    "version": 3
   },
   "file_extension": ".py",
   "mimetype": "text/x-python",
   "name": "python",
   "nbconvert_exporter": "python",
   "pygments_lexer": "ipython3",
   "version": "3.10.12"
  },
  "orig_nbformat": 4
 },
 "nbformat": 4,
 "nbformat_minor": 2
}
