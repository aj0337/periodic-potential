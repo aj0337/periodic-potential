{
 "cells": [
  {
   "cell_type": "code",
   "execution_count": 1,
   "metadata": {},
   "outputs": [],
   "source": [
    "import ase\n",
    "import numpy as np"
   ]
  },
  {
   "cell_type": "code",
   "execution_count": 2,
   "metadata": {},
   "outputs": [],
   "source": [
    "cell = ase.cell.Cell(\n",
    "    [\n",
    "        [2.130422, -6.150, 0.0],\n",
    "        [4.260845, 4.920, 0.0],\n",
    "        [0.0, 0.0, 26.720],\n",
    "    ]\n",
    ")\n",
    "A = np.matrix(cell)"
   ]
  },
  {
   "cell_type": "code",
   "execution_count": 3,
   "metadata": {},
   "outputs": [],
   "source": [
    "rec_cell = cell.reciprocal()\n",
    "R = np.matrix(rec_cell)"
   ]
  },
  {
   "cell_type": "code",
   "execution_count": 4,
   "metadata": {},
   "outputs": [],
   "source": [
    "T = R * A**-1"
   ]
  },
  {
   "cell_type": "code",
   "execution_count": 5,
   "metadata": {},
   "outputs": [],
   "source": [
    "new_cell = ase.cell.Cell(\n",
    "    [\n",
    "        [4.2608451843, 0.0, 0.0],\n",
    "        [0.0, 2.4599997997, 0.0],\n",
    "        [0.0, 0.0, 10.000000000],\n",
    "    ]\n",
    ")\n",
    "N = np.matrix(new_cell)"
   ]
  },
  {
   "cell_type": "code",
   "execution_count": 6,
   "metadata": {},
   "outputs": [],
   "source": [
    "new_rec_cell = new_cell.reciprocal()\n",
    "NR = np.matrix(new_rec_cell)"
   ]
  },
  {
   "cell_type": "code",
   "execution_count": 7,
   "metadata": {},
   "outputs": [
    {
     "data": {
      "text/plain": [
       "{'G': array([0., 0., 0.]),\n",
       " 'A': array([ 0. ,  0. , -0.5]),\n",
       " 'H': array([ 0.33333333, -0.33333333, -0.5       ]),\n",
       " 'K': array([ 0.33333333, -0.33333333,  0.        ]),\n",
       " 'L': array([ 0.5,  0. , -0.5]),\n",
       " 'M': array([0.5, 0. , 0. ])}"
      ]
     },
     "execution_count": 7,
     "metadata": {},
     "output_type": "execute_result"
    }
   ],
   "source": [
    "path = rec_cell.bandpath()\n",
    "path.special_points"
   ]
  },
  {
   "cell_type": "code",
   "execution_count": 8,
   "metadata": {},
   "outputs": [],
   "source": [
    "U = NR * R**-1"
   ]
  },
  {
   "cell_type": "code",
   "execution_count": 9,
   "metadata": {},
   "outputs": [
    {
     "data": {
      "text/plain": [
       "{'G': array([0., 0., 0.]),\n",
       " 'A': array([ 0.   ,  0.   , -1.336]),\n",
       " 'H': array([ 1.00000002, -0.3333334 , -1.336     ]),\n",
       " 'K': array([ 1.00000002, -0.3333334 ,  0.        ]),\n",
       " 'L': array([ 0.24999993,  0.49999998, -1.336     ]),\n",
       " 'M': array([0.24999993, 0.49999998, 0.        ])}"
      ]
     },
     "execution_count": 9,
     "metadata": {},
     "output_type": "execute_result"
    }
   ],
   "source": [
    "n_path = path.transform(U.A)\n",
    "n_path.special_points"
   ]
  },
  {
   "cell_type": "code",
   "execution_count": null,
   "metadata": {},
   "outputs": [],
   "source": []
  }
 ],
 "metadata": {
  "kernelspec": {
   "display_name": "CD",
   "language": "python",
   "name": "python3"
  },
  "language_info": {
   "codemirror_mode": {
    "name": "ipython",
    "version": 3
   },
   "file_extension": ".py",
   "mimetype": "text/x-python",
   "name": "python",
   "nbconvert_exporter": "python",
   "pygments_lexer": "ipython3",
   "version": "3.9.18"
  }
 },
 "nbformat": 4,
 "nbformat_minor": 2
}
