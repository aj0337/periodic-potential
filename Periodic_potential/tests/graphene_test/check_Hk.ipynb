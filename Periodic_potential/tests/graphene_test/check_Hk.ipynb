{
 "cells": [
  {
   "cell_type": "code",
   "execution_count": 60,
   "metadata": {},
   "outputs": [],
   "source": [
    "import numpy as np\n",
    "import matplotlib.pyplot as plt\n",
    "import scipy.linalg as scl\n",
    "import pandas as pd\n"
   ]
  },
  {
   "cell_type": "code",
   "execution_count": 66,
   "metadata": {},
   "outputs": [
    {
     "data": {
      "text/html": [
       "<div>\n",
       "<style scoped>\n",
       "    .dataframe tbody tr th:only-of-type {\n",
       "        vertical-align: middle;\n",
       "    }\n",
       "\n",
       "    .dataframe tbody tr th {\n",
       "        vertical-align: top;\n",
       "    }\n",
       "\n",
       "    .dataframe thead th {\n",
       "        text-align: right;\n",
       "    }\n",
       "</style>\n",
       "<table border=\"1\" class=\"dataframe\">\n",
       "  <thead>\n",
       "    <tr style=\"text-align: right;\">\n",
       "      <th></th>\n",
       "      <th>0</th>\n",
       "      <th>1</th>\n",
       "      <th>2</th>\n",
       "      <th>3</th>\n",
       "    </tr>\n",
       "  </thead>\n",
       "  <tbody>\n",
       "    <tr>\n",
       "      <th>0</th>\n",
       "      <td>0.000037+0.000000j</td>\n",
       "      <td>0.000000+0.000000j</td>\n",
       "      <td>-0.030663-0.094366j</td>\n",
       "      <td>-0.018951-0.058323j</td>\n",
       "    </tr>\n",
       "    <tr>\n",
       "      <th>1</th>\n",
       "      <td>0.000000+0.000000j</td>\n",
       "      <td>0.000037+0.000000j</td>\n",
       "      <td>-0.018951+0.058323j</td>\n",
       "      <td>-0.099223+0.000000j</td>\n",
       "    </tr>\n",
       "    <tr>\n",
       "      <th>2</th>\n",
       "      <td>-0.030663+0.094366j</td>\n",
       "      <td>-0.018951-0.058323j</td>\n",
       "      <td>0.000037+0.000000j</td>\n",
       "      <td>0.000000+0.000000j</td>\n",
       "    </tr>\n",
       "    <tr>\n",
       "      <th>3</th>\n",
       "      <td>-0.018951+0.058323j</td>\n",
       "      <td>-0.099223+0.000000j</td>\n",
       "      <td>0.000000+0.000000j</td>\n",
       "      <td>0.000037+0.000000j</td>\n",
       "    </tr>\n",
       "  </tbody>\n",
       "</table>\n",
       "</div>"
      ],
      "text/plain": [
       "                    0                   1                   2  \\\n",
       "0  0.000037+0.000000j  0.000000+0.000000j -0.030663-0.094366j   \n",
       "1  0.000000+0.000000j  0.000037+0.000000j -0.018951+0.058323j   \n",
       "2 -0.030663+0.094366j -0.018951-0.058323j  0.000037+0.000000j   \n",
       "3 -0.018951+0.058323j -0.099223+0.000000j  0.000000+0.000000j   \n",
       "\n",
       "                    3  \n",
       "0 -0.018951-0.058323j  \n",
       "1 -0.099223+0.000000j  \n",
       "2  0.000000+0.000000j  \n",
       "3  0.000037+0.000000j  "
      ]
     },
     "execution_count": 66,
     "metadata": {},
     "output_type": "execute_result"
    }
   ],
   "source": [
    "data_file = 'Hk_tests/non_standard_cell/1by1/dense/Hk.dat'\n",
    "data = np.loadtxt(data_file,skiprows=(1))\n",
    "indices = data[:, :2]\n",
    "eigvals_real = data[:, 2]\n",
    "eigvals_complex = data[:, 3]\n",
    "\n",
    "max_index = int(np.max(indices))\n",
    "\n",
    "Hk_dense = np.zeros((max_index, max_index),dtype=complex)\n",
    "\n",
    "for (i1, i2), real,imag in zip(indices,eigvals_real,eigvals_complex):\n",
    "    Hk_dense[int(i1)-1, int(i2)-1] = real + imag*1j\n",
    "pd.DataFrame(Hk_dense)"
   ]
  },
  {
   "cell_type": "code",
   "execution_count": 67,
   "metadata": {},
   "outputs": [
    {
     "data": {
      "text/plain": [
       "True"
      ]
     },
     "execution_count": 67,
     "metadata": {},
     "output_type": "execute_result"
    }
   ],
   "source": [
    "scl.ishermitian(Hk_dense)"
   ]
  },
  {
   "cell_type": "code",
   "execution_count": 70,
   "metadata": {},
   "outputs": [
    {
     "data": {
      "text/html": [
       "<div>\n",
       "<style scoped>\n",
       "    .dataframe tbody tr th:only-of-type {\n",
       "        vertical-align: middle;\n",
       "    }\n",
       "\n",
       "    .dataframe tbody tr th {\n",
       "        vertical-align: top;\n",
       "    }\n",
       "\n",
       "    .dataframe thead th {\n",
       "        text-align: right;\n",
       "    }\n",
       "</style>\n",
       "<table border=\"1\" class=\"dataframe\">\n",
       "  <thead>\n",
       "    <tr style=\"text-align: right;\">\n",
       "      <th></th>\n",
       "      <th>0</th>\n",
       "      <th>1</th>\n",
       "      <th>2</th>\n",
       "      <th>3</th>\n",
       "    </tr>\n",
       "  </thead>\n",
       "  <tbody>\n",
       "    <tr>\n",
       "      <th>0</th>\n",
       "      <td>0.000037+0.000000j</td>\n",
       "      <td>0.000000+0.000000j</td>\n",
       "      <td>-0.030663-0.094366j</td>\n",
       "      <td>0.080273-0.058323j</td>\n",
       "    </tr>\n",
       "    <tr>\n",
       "      <th>1</th>\n",
       "      <td>0.000000+0.000000j</td>\n",
       "      <td>0.000037+0.000000j</td>\n",
       "      <td>-0.099223+0.000000j</td>\n",
       "      <td>-0.099223+0.000000j</td>\n",
       "    </tr>\n",
       "    <tr>\n",
       "      <th>2</th>\n",
       "      <td>-0.030663+0.094366j</td>\n",
       "      <td>0.080273-0.058323j</td>\n",
       "      <td>0.000037+0.000000j</td>\n",
       "      <td>0.000000+0.000000j</td>\n",
       "    </tr>\n",
       "    <tr>\n",
       "      <th>3</th>\n",
       "      <td>-0.099223+0.000000j</td>\n",
       "      <td>-0.099223+0.000000j</td>\n",
       "      <td>0.000000+0.000000j</td>\n",
       "      <td>0.000037+0.000000j</td>\n",
       "    </tr>\n",
       "  </tbody>\n",
       "</table>\n",
       "</div>"
      ],
      "text/plain": [
       "                    0                   1                   2  \\\n",
       "0  0.000037+0.000000j  0.000000+0.000000j -0.030663-0.094366j   \n",
       "1  0.000000+0.000000j  0.000037+0.000000j -0.099223+0.000000j   \n",
       "2 -0.030663+0.094366j  0.080273-0.058323j  0.000037+0.000000j   \n",
       "3 -0.099223+0.000000j -0.099223+0.000000j  0.000000+0.000000j   \n",
       "\n",
       "                    3  \n",
       "0  0.080273-0.058323j  \n",
       "1 -0.099223+0.000000j  \n",
       "2  0.000000+0.000000j  \n",
       "3  0.000037+0.000000j  "
      ]
     },
     "execution_count": 70,
     "metadata": {},
     "output_type": "execute_result"
    }
   ],
   "source": [
    "data_file = 'Hk_tests/non_standard_cell/1by1/sparse/Hk.dat'\n",
    "data = np.loadtxt(data_file,skiprows=(1))\n",
    "indices = data[:, :2]\n",
    "eigvals_real = data[:, 2]\n",
    "eigvals_complex = data[:, 3]\n",
    "\n",
    "max_index = int(np.max(indices))\n",
    "\n",
    "Hk_sparse = np.zeros((max_index, max_index),dtype=complex)\n",
    "\n",
    "for (i1, i2), real,imag in zip(indices,eigvals_real,eigvals_complex):\n",
    "    Hk_sparse[int(i1)-1, int(i2)-1] = real + imag*1j\n",
    "pd.DataFrame(Hk_sparse)"
   ]
  },
  {
   "cell_type": "code",
   "execution_count": 71,
   "metadata": {},
   "outputs": [
    {
     "data": {
      "text/plain": [
       "False"
      ]
     },
     "execution_count": 71,
     "metadata": {},
     "output_type": "execute_result"
    }
   ],
   "source": [
    "scl.ishermitian(Hk_sparse)\n"
   ]
  },
  {
   "cell_type": "code",
   "execution_count": null,
   "metadata": {},
   "outputs": [],
   "source": []
  }
 ],
 "metadata": {
  "kernelspec": {
   "display_name": "PAOFLOW",
   "language": "python",
   "name": "python3"
  },
  "language_info": {
   "codemirror_mode": {
    "name": "ipython",
    "version": 3
   },
   "file_extension": ".py",
   "mimetype": "text/x-python",
   "name": "python",
   "nbconvert_exporter": "python",
   "pygments_lexer": "ipython3",
   "version": "3.10.13"
  }
 },
 "nbformat": 4,
 "nbformat_minor": 2
}
