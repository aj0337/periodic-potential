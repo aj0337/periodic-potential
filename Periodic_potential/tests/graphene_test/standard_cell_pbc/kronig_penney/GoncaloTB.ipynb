{
 "cells": [
  {
   "cell_type": "code",
   "execution_count": null,
   "id": "7608ca05-707b-4ae5-ae2a-d77daa4b356e",
   "metadata": {
    "tags": []
   },
   "outputs": [],
   "source": [
    "# include(\"/home/anooja/Dropbox/anooja/EMPA/BG_periodic_potential_Jian/Goncalo_TB/2by2/code/MyPyPlots.jl\")\n",
    "include(\"/home/anooja/Dropbox/anooja/EMPA/BG_periodic_potential_Jian/Goncalo_TB/code_2/MyPlots.jl\")\n",
    "include(\"/home/anooja/Dropbox/anooja/EMPA/BG_periodic_potential_Jian/Goncalo_TB/code_2/AuxFunctions.jl\")\n",
    "include(\"/home/anooja/Dropbox/anooja/EMPA/BG_periodic_potential_Jian/Goncalo_TB/code_2/Hamiltonians.jl\")\n",
    "# import .MyPyPlots\n",
    "import .MyPlots\n",
    "import .AuxFunctions\n",
    "import .Hamiltonians\n",
    "\n",
    "using DelimitedFiles\n",
    "using LinearAlgebra"
   ]
  },
  {
   "cell_type": "code",
   "execution_count": null,
   "id": "dbdc43c5",
   "metadata": {},
   "outputs": [],
   "source": [
    "using Pkg\n",
    "Pkg.add(\"PyCall\")\n",
    "using PyCall\n",
    "np = pyimport(\"numpy\")\n",
    "Pkg.add(\"Arpack\")\n",
    "Pkg.add(\"PyPlot\")\n",
    "Pkg.add(\"Plots\")"
   ]
  },
  {
   "cell_type": "code",
   "execution_count": null,
   "id": "c9063243",
   "metadata": {},
   "outputs": [],
   "source": [
    "\"\"\"\n",
    "phi-path corresponding to k-path Γ -> K -> M -> Γ of 2D hexagonal lattice\n",
    "    assuming a1 = [1,0]*a, a2 = [-1/2,sqrt(3)/2]*a\n",
    "\n",
    "GC, 08-03-2024\n",
    "\"\"\"\n",
    "function phipath_2D_GammaKMGamma(;Npiover3=10)\n",
    "    # dphi\n",
    "    dphi = (pi/3)/Npiover3\n",
    "\n",
    "    # initialize phi-path\n",
    "    phi1path = Float64[]\n",
    "    phi2path = Float64[]\n",
    "\n",
    "    # phi-path points\n",
    "    Gamma = [0.0, 0.0]\n",
    "    K = [-2*pi/3, -2*pi/3]\n",
    "    M = [0.0, -pi]\n",
    "\n",
    "    #Gamma -> K\n",
    "    GammaK_phi1 = [phi1 for phi1 in Gamma[1]:-dphi:K[1]+1e-8]\n",
    "    GammaK_phi2 = [phi2 for phi2 in Gamma[2]:-dphi:K[2]+1e-8]\n",
    "    append!(phi1path,GammaK_phi1)\n",
    "    append!(phi2path,GammaK_phi2)\n",
    "\n",
    "    #K -> M\n",
    "    KM_phi1 = [phi1 for phi1 in K[1]:2*dphi:M[1]-1e-8]\n",
    "    KM_phi2 = [phi2 for phi2 in K[2]:-dphi:M[2]+1e-8]\n",
    "    append!(phi1path,KM_phi1)\n",
    "    append!(phi2path,KM_phi2)\n",
    "\n",
    "    #M -> Gamma\n",
    "    npts = round(sqrt(3)/2*length(GammaK_phi1))\n",
    "    dphiaux = (Gamma[2]-M[2])/npts\n",
    "    MGamma_phi2 = [phi2 for phi2 in M[2]:dphiaux:Gamma[2]-1e-8]\n",
    "    MGamma_phi1 = [0.0 for it in 1:length(MGamma_phi2)]\n",
    "    append!(phi1path,MGamma_phi1)\n",
    "    append!(phi2path,MGamma_phi2)\n",
    "\n",
    "    # include last point\n",
    "    append!(phi1path,Gamma[1])\n",
    "    append!(phi2path,Gamma[2])\n",
    "\n",
    "    # phi-path\n",
    "    phipath = hcat(phi1path,phi2path)\n",
    "\n",
    "    # path ticks\n",
    "    pathtickpos = [1,\n",
    "        1+size(GammaK_phi1,1),\n",
    "        1+size(GammaK_phi1,1)+size(KM_phi1,1),\n",
    "        size(phi1path,1)]\n",
    "    pathticklabels = [\"Γ\",\"K\",\"M\",\"Γ\"]\n",
    "    pathticks = (pathtickpos,pathticklabels)\n",
    "\n",
    "    return phipath,pathticks\n",
    "end\n",
    ";"
   ]
  },
  {
   "cell_type": "markdown",
   "id": "74904b6d",
   "metadata": {},
   "source": [
    "# Import sites and vectors"
   ]
  },
  {
   "cell_type": "code",
   "execution_count": null,
   "id": "e14dcf06",
   "metadata": {},
   "outputs": [],
   "source": [
    "sites_path = \"./length_9.96nm/sites.txt\"\n",
    "\n",
    "dCC = 1.42028 #angstrom\n",
    "uc = readdlm(sites_path, skipstart=1) #angstrom\n",
    "a1 = [100.8600006104,         0.0000000000,         0.0000000000] #angstrom\n",
    "a2 = [-1.2300000191,        2.1304225263,         0.0000000000] #angstrom\n",
    "\n",
    "MyPlots.structures2D(uc,vecs=[a1,a2],sitelabels=false)"
   ]
  },
  {
   "cell_type": "markdown",
   "id": "92f3d7b3",
   "metadata": {},
   "source": [
    "# Find neighbors"
   ]
  },
  {
   "cell_type": "code",
   "execution_count": null,
   "id": "8b6f193d",
   "metadata": {},
   "outputs": [],
   "source": [
    "neighbors_uc,neighbors_n1n2 = AuxFunctions.neighbors_honeycomb_2DBloch(uc,a1,a2,dNN=dCC,tol=1e-5*dCC);\n",
    "\n",
    "MyPlots.structures2D(uc,neighbors=neighbors_uc,linecolors=[\"blue\"])"
   ]
  },
  {
   "cell_type": "markdown",
   "id": "d5eea6cb",
   "metadata": {},
   "source": [
    "# Hamiltonian"
   ]
  },
  {
   "cell_type": "code",
   "execution_count": null,
   "id": "f404f47b",
   "metadata": {},
   "outputs": [],
   "source": [
    "t1 = -2.7 #eV\n",
    "\n",
    "H2D(phi1,phi2) = Hamiltonians.TB_Bloch2D(phi1,phi2,neighbors_uc,neighbors_n1n2,hoppings=[t1])"
   ]
  },
  {
   "cell_type": "code",
   "execution_count": null,
   "id": "f3d9fb19",
   "metadata": {},
   "outputs": [],
   "source": [
    "# ktest = [0.2,0.1,0] #Angstrom^(-1)\n",
    "# ktest = [0.0167,0.0167,0] #Angstrom^(-1)\n",
    "\n",
    "# phi1 = dot(ktest,a1)\n",
    "# phi2 = dot(ktest,a2)\n",
    "\n",
    "# result_array= H2D(phi1,phi2)\n",
    "# np_result_array = np.array(result_array)\n",
    "# ishermitian(H2D(phi1,phi2))\n",
    "# filepath = \"Hk_[0.0167,0.0167,0].dat\"\n",
    "# writedlm(filepath, np_result_array)"
   ]
  },
  {
   "cell_type": "code",
   "execution_count": null,
   "id": "51b40b4a",
   "metadata": {},
   "outputs": [],
   "source": [
    "# phipath,pathticks = AuxFunctions.phipath_2D_GammaKMGamma();\n",
    "phipath,pathticks = phipath_2D_GammaKMGamma();\n",
    "En_phipath = AuxFunctions.En_phipath_2D(H2D,phipath);\n",
    "MyPlots.Ebands(En_phipath,pathticks=pathticks,ylims=(0,0.5))"
   ]
  },
  {
   "cell_type": "code",
   "execution_count": null,
   "id": "d85b30c0",
   "metadata": {},
   "outputs": [],
   "source": [
    "En_phipath"
   ]
  },
  {
   "cell_type": "code",
   "execution_count": null,
   "id": "178ca01f",
   "metadata": {},
   "outputs": [],
   "source": [
    "sites_path = \"./length_19.6nm/sites.txt\"\n",
    "\n",
    "dCC = 1.42028 #angstrom\n",
    "uc = readdlm(sites_path, skipstart=1) #angstrom\n",
    "a1 = [196.8000030518,         0.0000000000,         0.0000000000] #angstrom\n",
    "a2 = [-1.2300000191,        2.1304225263,         0.0000000000] #angstrom\n",
    "\n",
    "MyPlots.structures2D(uc,vecs=[a1,a2],sitelabels=false)"
   ]
  },
  {
   "cell_type": "code",
   "execution_count": null,
   "id": "26e2c38d",
   "metadata": {},
   "outputs": [],
   "source": [
    "neighbors_uc,neighbors_n1n2 = AuxFunctions.neighbors_honeycomb_2DBloch(uc,a1,a2,dNN=dCC,tol=1e-5*dCC);\n",
    "\n",
    "MyPlots.structures2D(uc,neighbors=neighbors_uc,linecolors=[\"blue\"])"
   ]
  },
  {
   "cell_type": "code",
   "execution_count": null,
   "id": "340dc8c2",
   "metadata": {},
   "outputs": [],
   "source": [
    "t1 = -2.7 #eV\n",
    "\n",
    "H2D(phi1,phi2) = Hamiltonians.TB_Bloch2D(phi1,phi2,neighbors_uc,neighbors_n1n2,hoppings=[t1])"
   ]
  },
  {
   "cell_type": "code",
   "execution_count": null,
   "id": "67df01b9",
   "metadata": {},
   "outputs": [],
   "source": [
    "# phipath,pathticks = AuxFunctions.phipath_2D_GammaKMGamma();\n",
    "phipath,pathticks = phipath_2D_GammaKMGamma();\n",
    "En_phipath = AuxFunctions.En_phipath_2D(H2D,phipath);\n",
    "MyPlots.Ebands(En_phipath,pathticks=pathticks,ylims=(0,0.5))"
   ]
  },
  {
   "cell_type": "code",
   "execution_count": null,
   "id": "b520892c",
   "metadata": {},
   "outputs": [],
   "source": []
  }
 ],
 "metadata": {
  "kernelspec": {
   "display_name": "Julia 1.10.0",
   "language": "julia",
   "name": "julia-1.10"
  },
  "language_info": {
   "file_extension": ".jl",
   "mimetype": "application/julia",
   "name": "julia",
   "version": "1.10.0"
  }
 },
 "nbformat": 4,
 "nbformat_minor": 5
}
