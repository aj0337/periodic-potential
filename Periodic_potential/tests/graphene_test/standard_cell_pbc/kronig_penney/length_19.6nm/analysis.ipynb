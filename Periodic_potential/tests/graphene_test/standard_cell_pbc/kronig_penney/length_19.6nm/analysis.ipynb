{
 "cells": [
  {
   "cell_type": "code",
   "execution_count": null,
   "metadata": {},
   "outputs": [],
   "source": [
    "import os\n",
    "\n",
    "import matplotlib.pyplot as plt\n",
    "import numpy as np\n",
    "import pandas as pd\n"
   ]
  },
  {
   "cell_type": "code",
   "execution_count": null,
   "metadata": {},
   "outputs": [],
   "source": [
    "df\n"
   ]
  },
  {
   "cell_type": "code",
   "execution_count": null,
   "metadata": {},
   "outputs": [],
   "source": [
    "file = 'potential_0/TG_hr_with_atom_coord.dat'\n",
    "structure = np.loadtxt(file, usecols=(3,5,6,7,11,12,13))\n",
    "df = pd.DataFrame(structure)\n",
    "column_name = 0\n",
    "df = df.drop_duplicates(subset=column_name)\n",
    "x = df[1]\n",
    "x_direct = df[4]\n",
    "y = df[2]\n",
    "lattice_period =196.8000030518 # obtained from POSCAR x coordintate of lattice vector a\n",
    "L = lattice_period # should be calculated as size of the unit cell along the x-axis\n",
    "b = 0.5\n",
    "\n",
    "U0 =  5\n",
    "colors = []\n",
    "potential = []\n",
    "for i in range(len(x_direct)):\n",
    "    # if 0 <= x.iloc[i] < b:\n",
    "    if x_direct.iloc[i] <= b:\n",
    "        V = U0 / 2.0\n",
    "        color = 'red'\n",
    "    else:\n",
    "        V = -U0 / 2.0\n",
    "        color = 'black'\n",
    "    colors.append(color)\n",
    "    potential.append(V)\n",
    "plt.figure(figsize=(7,4))\n",
    "plt.scatter(x, y, c=colors, cmap=plt.cm.get_cmap('coolwarm', 2))\n",
    "plt.show()\n"
   ]
  },
  {
   "cell_type": "code",
   "execution_count": null,
   "metadata": {},
   "outputs": [],
   "source": [
    "file = 'potential_0/TG_hr_with_atom_coord.dat'\n",
    "structure = np.loadtxt(file, usecols=(3,5,6,7,11,12,13))\n",
    "df = pd.DataFrame(structure)\n",
    "column_name = 0\n",
    "df = df.drop_duplicates(subset=column_name)\n",
    "x = df[1]\n",
    "x_direct = df[4]\n",
    "y = df[2]\n",
    "lattice_period =196.8000030518 # obtained from POSCAR x coordintate of lattice vector a\n",
    "L = lattice_period # should be calculated as size of the unit cell along the x-axis\n",
    "# b = L/2 #should be the x-coordinate of the mid point of the ribbon\n",
    "b = 0.5\n",
    "\n",
    "U0 =  5\n",
    "perturb = 0.1 * U0/2.0\n",
    "start1 = 0.25\n",
    "end1 = 0.5\n",
    "start2 = 0.5\n",
    "end2 = 0.75\n",
    "\n",
    "colors = []\n",
    "potential = []\n",
    "for i in range(len(x_direct)):\n",
    "    # if 0 <= x.iloc[i] < b:\n",
    "    if x_direct.iloc[i] < b:\n",
    "        V = U0 / 2.0\n",
    "        color = 'red'\n",
    "    else:\n",
    "        V = -U0 / 2.0\n",
    "        color = 'black'\n",
    "    if (start1 <= x_direct.iloc[i] < end1):\n",
    "        V += perturb\n",
    "        color = 'blue'\n",
    "    if (start2 <= x_direct.iloc[i] < end2):\n",
    "        V -= perturb\n",
    "        color = 'green'\n",
    "    potential.append(V)\n",
    "    colors.append(color)\n",
    "plt.figure(figsize=(7,4))\n",
    "plt.scatter(x, y, c=colors, cmap=plt.cm.get_cmap('coolwarm', 2))\n",
    "plt.show()\n"
   ]
  },
  {
   "cell_type": "code",
   "execution_count": null,
   "metadata": {},
   "outputs": [],
   "source": [
    "natoms = 160\n",
    "subdirectory_list = ['potential_0','potential_10']\n",
    "for subdirectory in subdirectory_list:\n",
    "    HR = np.zeros((natoms,natoms))\n",
    "    Hdata = np.loadtxt(f'{subdirectory}/TG_hr.dat',skiprows=8,usecols=(0,1,2,3,4,5))\n",
    "    df = pd.DataFrame(Hdata)\n",
    "    Hdata_center = df.loc[(df[0] == 0) & (df[1] == 0) & (df[2] == 0)].to_numpy()\n",
    "    for i in range(len(Hdata_center)):\n",
    "        atom1 = int(Hdata_center[i,3]-1)\n",
    "        atom2 = int(Hdata_center[i,4]-1)\n",
    "        HR[atom1,atom2] = Hdata_center[i,5]\n",
    "    fig = plt.figure(figsize=(10,10))\n",
    "    ax = fig.add_subplot(111)\n",
    "    cax = ax.matshow(HR, interpolation='nearest')\n",
    "    fig.colorbar(cax)\n",
    "    plt.title(f'{subdirectory}')\n",
    "    plt.show()\n"
   ]
  },
  {
   "cell_type": "code",
   "execution_count": null,
   "metadata": {},
   "outputs": [],
   "source": [
    "natoms = 160\n",
    "subdirectory_list = ['potential_0','potential_10']\n",
    "for subdirectory in subdirectory_list:\n",
    "    HR = np.zeros((natoms,natoms))\n",
    "    Hdata = np.loadtxt(f'{subdirectory}/TG_hr_with_atom_coord.dat',skiprows=8,usecols=(0,1,2,3,4,5,6,8,9))\n",
    "    df = pd.DataFrame(Hdata)\n",
    "    Hdata_center = df.loc[(df[0] == 0) & (df[1] == 0) & (df[2] == 0)].to_numpy()\n",
    "    for i in range(len(Hdata_center)):\n",
    "        atom1 = int(Hdata_center[i,3]-1)\n",
    "        atom2 = int(Hdata_center[i,4]-1)\n",
    "        HR[atom1,atom2] = Hdata_center[i,5]\n",
    "    fig = plt.figure(figsize=(20,20))\n",
    "    ax = fig.add_subplot(111)\n",
    "    cax = ax.matshow(HR, interpolation='nearest')\n",
    "    fig.colorbar(cax)\n",
    "    plt.title(f'{subdirectory}')\n",
    "    plt.show()\n"
   ]
  }
 ],
 "metadata": {
  "kernelspec": {
   "display_name": "Python 3",
   "language": "python",
   "name": "python3"
  },
  "language_info": {
   "codemirror_mode": {
    "name": "ipython",
    "version": 3
   },
   "file_extension": ".py",
   "mimetype": "text/x-python",
   "name": "python",
   "nbconvert_exporter": "python",
   "pygments_lexer": "ipython3",
   "version": "3.10.12"
  }
 },
 "nbformat": 4,
 "nbformat_minor": 2
}
