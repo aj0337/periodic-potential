{
 "cells": [
  {
   "cell_type": "code",
   "execution_count": null,
   "metadata": {},
   "outputs": [],
   "source": [
    "import itertools\n",
    "import re\n",
    "\n",
    "import matplotlib.pyplot as plt\n",
    "import numpy as np"
   ]
  },
  {
   "cell_type": "code",
   "execution_count": null,
   "metadata": {},
   "outputs": [],
   "source": [
    "def get_real_and_imag(line):\n",
    "    matches = re.findall(r'[-+]?\\d*\\.\\d+E[+-]?\\d+', line)\n",
    "    Hk_real = float(matches[0])\n",
    "    Hk_imag = float(matches[1])\n",
    "    return Hk_real, Hk_imag\n",
    "\n",
    "\n",
    "def get_Hk_WT(filename):\n",
    "    Hk_real = []\n",
    "    Hk_imag = []\n",
    "\n",
    "    with open(filename, 'r') as file:\n",
    "        lines = file.readlines()\n",
    "\n",
    "    knum = 0\n",
    "    for line in lines:\n",
    "        if line.split()[0] == 'k':\n",
    "            knum += 1\n",
    "        elif 'Hk' in line:\n",
    "            continue\n",
    "        else:\n",
    "            Hk_values = get_real_and_imag(line)\n",
    "            Hk_real.append(Hk_values[0])\n",
    "            Hk_imag.append(Hk_values[1])\n",
    "    Hk_real = np.array(Hk_real).reshape((knum, -1))\n",
    "    Hk_imag = np.array(Hk_imag).reshape((knum, -1))\n",
    "\n",
    "    natoms = int(np.sqrt(len(Hk_real[0])))\n",
    "    Hk_real = Hk_real.reshape((knum, natoms, natoms))\n",
    "    Hk_imag = Hk_imag.reshape((knum, natoms, natoms))\n",
    "    return Hk_real, Hk_imag\n",
    "\n",
    "\n",
    "def plot_matrix(Hk_real, Hk_imag):\n",
    "    fig, axs = plt.subplots(1, 2, figsize=(12, 6))\n",
    "\n",
    "    axs[0].matshow(Hk_real)\n",
    "    axs[0].set_title('Hk_real')\n",
    "\n",
    "    axs[1].matshow(Hk_imag)\n",
    "    axs[1].set_title('Hk_imag')\n",
    "    plt.show()\n",
    "\n",
    "# TODO CHECK WHY VALUES ARE NOT DISPLAYED IN PLOT\n",
    "def plot_matrix_with_values(Hk_real, Hk_imag):\n",
    "    fig, axs = plt.subplots(1, 2, figsize=(12, 6))\n",
    "\n",
    "    im1 = axs[0].imshow(Hk_real, cmap='viridis')\n",
    "\n",
    "    natoms = int(np.sqrt(len(Hk_real[0])))\n",
    "    for i in range(natoms):\n",
    "        for j in range(natoms):\n",
    "            value = Hk_real[i, j]\n",
    "            if value != 0:\n",
    "                axs[0].text(j, i, f'{value:.2f}', ha='center', va='center', color='w')\n",
    "\n",
    "    axs[0].set_title('Hk_real')\n",
    "    plt.colorbar(im1, ax=axs[0])\n",
    "\n",
    "    im2 = axs[1].imshow(Hk_imag, cmap='viridis')\n",
    "\n",
    "    for i in range(natoms):\n",
    "        for j in range(natoms):\n",
    "            value = Hk_imag[i, j]\n",
    "            if value != 0:\n",
    "                axs[1].text(j, i, f'{value:.2f}', ha='center', va='center', color='w')\n",
    "\n",
    "    axs[1].set_title('Hk_imag')\n",
    "    plt.colorbar(im2, ax=axs[1])\n",
    "\n",
    "    plt.show()\n",
    "\n",
    "def get_Hk_Goncalo(filename):\n",
    "\n",
    "    eV2Hartree = 0.0367493\n",
    "    with open(filename, 'r') as file:\n",
    "        lines = file.readlines()\n",
    "\n",
    "    Hk_real = []\n",
    "    Hk_imag = []\n",
    "\n",
    "    for line in lines:\n",
    "        values = line.split('\\t')\n",
    "        values = [(value.replace('im', 'j').strip()) for value in values]\n",
    "        complex_list = [complex(value.replace(\" \", \"\")) for value in values]\n",
    "        Hk_real.append([num.real * eV2Hartree for num in complex_list])\n",
    "        Hk_imag.append([num.imag * eV2Hartree for num in complex_list])\n",
    "\n",
    "    natoms = len(Hk_real)\n",
    "    Hk_real = np.array(Hk_real).reshape((natoms,natoms))\n",
    "    Hk_imag = np.array(Hk_imag).reshape((natoms,natoms))\n",
    "\n",
    "    return Hk_real, Hk_imag"
   ]
  },
  {
   "cell_type": "code",
   "execution_count": null,
   "metadata": {},
   "outputs": [],
   "source": [
    "Hk_real, Hk_imag = get_Hk_WT('2by2/Hk.dat')\n",
    "plot_matrix(Hk_real[0,:,:],Hk_imag[0,:,:])\n",
    "# plot_matrix_with_values(Hk_real,Hk_imag)"
   ]
  },
  {
   "cell_type": "code",
   "execution_count": null,
   "metadata": {},
   "outputs": [],
   "source": [
    "Hk_real_G, Hk_imag_G = get_Hk_Goncalo('2by2/GoncaloTB/Hk_[0,0,0].dat')\n"
   ]
  },
  {
   "cell_type": "code",
   "execution_count": null,
   "metadata": {},
   "outputs": [],
   "source": [
    "print(np.allclose(Hk_real[0,:,:],Hk_real_G))\n",
    "print(np.allclose(Hk_imag[0,:,:],Hk_imag_G))"
   ]
  },
  {
   "cell_type": "code",
   "execution_count": null,
   "metadata": {},
   "outputs": [],
   "source": [
    "Hk_real_G, Hk_imag_G = get_Hk_Goncalo('2by2/GoncaloTB/Hk_[0.0167,0.0167,0].dat')\n"
   ]
  },
  {
   "cell_type": "code",
   "execution_count": null,
   "metadata": {},
   "outputs": [],
   "source": [
    "print(np.allclose(Hk_real[1,:,:],Hk_real_G))\n",
    "print(np.allclose(Hk_imag[1,:,:],Hk_imag_G))"
   ]
  },
  {
   "cell_type": "code",
   "execution_count": null,
   "metadata": {},
   "outputs": [],
   "source": [
    "plot_matrix(Hk_real[1,:,:],Hk_imag[1,:,:])\n",
    "plot_matrix(Hk_real_G,Hk_imag_G)\n"
   ]
  },
  {
   "cell_type": "code",
   "execution_count": null,
   "metadata": {},
   "outputs": [],
   "source": [
    "Hk_real[1,:,:]"
   ]
  },
  {
   "cell_type": "code",
   "execution_count": null,
   "metadata": {},
   "outputs": [],
   "source": [
    "Hk_real_G"
   ]
  },
  {
   "cell_type": "code",
   "execution_count": null,
   "metadata": {},
   "outputs": [],
   "source": []
  }
 ],
 "metadata": {
  "kernelspec": {
   "display_name": "Python 3",
   "language": "python",
   "name": "python3"
  },
  "language_info": {
   "codemirror_mode": {
    "name": "ipython",
    "version": 3
   },
   "file_extension": ".py",
   "mimetype": "text/x-python",
   "name": "python",
   "nbconvert_exporter": "python",
   "pygments_lexer": "ipython3",
   "version": "3.10.13"
  }
 },
 "nbformat": 4,
 "nbformat_minor": 2
}
