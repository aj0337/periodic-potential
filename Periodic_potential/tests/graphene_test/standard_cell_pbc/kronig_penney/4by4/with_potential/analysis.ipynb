{
 "cells": [
  {
   "cell_type": "code",
   "execution_count": null,
   "metadata": {},
   "outputs": [],
   "source": [
    "import numpy as np\n",
    "import matplotlib.pyplot as plt\n",
    "import os\n",
    "import pandas as pd\n"
   ]
  },
  {
   "cell_type": "code",
   "execution_count": null,
   "metadata": {},
   "outputs": [],
   "source": [
    "directory_path = \"./\"\n",
    "def extract_subdirectories(directory_path):\n",
    "    subdirectories = []\n",
    "    for foldername, subfolders, filenames in os.walk(directory_path):\n",
    "        subdirectories.extend(\n",
    "            subfolder\n",
    "            for subfolder in subfolders\n",
    "            if subfolder.startswith(\"potential_\")\n",
    "        )\n",
    "    return subdirectories\n",
    "\n",
    "# subdirectories_list = extract_subdirectories(directory_path)\n",
    "subdirectories_list = ['potential_0','potential_.1','potential_1']\n"
   ]
  },
  {
   "cell_type": "code",
   "execution_count": null,
   "metadata": {},
   "outputs": [],
   "source": [
    "df\n"
   ]
  },
  {
   "cell_type": "code",
   "execution_count": null,
   "metadata": {},
   "outputs": [],
   "source": [
    "file = 'TG_hr_with_atom_coord.dat'\n",
    "structure = np.loadtxt(file, usecols=(3,5,6,7,11,12,13))\n",
    "df = pd.DataFrame(structure)\n",
    "column_name = 0\n",
    "df = df.drop_duplicates(subset=column_name)\n",
    "x = df[1]\n",
    "x_direct = df[4]\n",
    "y = df[2]\n",
    "lattice_period =9.84 # obtained from POSCAR x coordintate of lattice vector a\n",
    "L = lattice_period # should be calculated as size of the unit cell along the x-axis\n",
    "# b = L/2 #should be the x-coordinate of the mid point of the ribbon\n",
    "b = 0.5\n",
    "\n",
    "U0 =  5\n",
    "colors = []\n",
    "potential = []\n",
    "for i in range(len(x_direct)):\n",
    "    # if 0 <= x.iloc[i] < b:\n",
    "    if x_direct.iloc[i] <= b:\n",
    "        V = U0 / 2.0\n",
    "        color = 'red'\n",
    "    else:\n",
    "        V = -U0 / 2.0\n",
    "        color = 'black'\n",
    "    colors.append(color)\n",
    "    potential.append(V)\n",
    "plt.figure(figsize=(7,4))\n",
    "plt.scatter(x, y, c=colors, cmap=plt.cm.get_cmap('coolwarm', 2))\n",
    "plt.show()\n",
    "plt.plot(potential)\n",
    "plt.show()\n"
   ]
  },
  {
   "cell_type": "code",
   "execution_count": null,
   "metadata": {},
   "outputs": [],
   "source": [
    "file = 'TG_hr_with_atom_coord.dat'\n",
    "structure = np.loadtxt(file, usecols=(3,5,6,7,11,12,13))\n",
    "df = pd.DataFrame(structure)\n",
    "column_name = 0\n",
    "df = df.drop_duplicates(subset=column_name)\n",
    "x = df[1]\n",
    "# x_direct = df[4]\n",
    "y = df[2]\n",
    "lattice_period =9.84 # obtained from POSCAR x coordintate of lattice vector a\n",
    "L = lattice_period # should be calculated as size of the unit cell along the x-axis\n",
    "# b = L/2 #should be the x-coordinate of the mid point of the ribbon\n",
    "b = 0.5\n",
    "delta = 0.0001\n",
    "U0 =  5\n",
    "colors = []\n",
    "x_direct = np.arange(0,1,0.001)\n",
    "\n",
    "# Create empty lists to store position and potential pairs\n",
    "positions_and_potentials = []\n",
    "\n",
    "for i in range(len(x_direct)):\n",
    "    if 0 <= x_direct[i] <= b:\n",
    "        V = U0 / 2.0\n",
    "        color = 'red'\n",
    "    elif b < x_direct[i] <= 1:\n",
    "        V = -U0 / 2.0\n",
    "        color = 'black'\n",
    "\n",
    "    # Append the position and potential pair to the list\n",
    "    positions_and_potentials.append((x_direct[i], V))\n",
    "\n",
    "# Sort the list of position and potential pairs based on position\n",
    "sorted_positions_and_potentials = sorted(positions_and_potentials, key=lambda x: x[0])\n",
    "print(sorted_positions_and_potentials)\n",
    "# Extract sorted positions and potentials into separate lists\n",
    "sorted_positions, sorted_potentials = zip(*sorted_positions_and_potentials)\n",
    "\n",
    "# Now, sorted_positions contains sorted positions and sorted_potentials contains corresponding sorted potentials\n",
    "# You can use these lists as needed in your further calculations or visualization.\n",
    "\n",
    "plt.plot(sorted_positions,sorted_potentials)\n",
    "plt.xlabel('x')\n",
    "plt.ylabel('V(x)')\n",
    "plt.show()\n"
   ]
  },
  {
   "cell_type": "code",
   "execution_count": null,
   "metadata": {},
   "outputs": [],
   "source": []
  }
 ],
 "metadata": {
  "kernelspec": {
   "display_name": "Python 3",
   "language": "python",
   "name": "python3"
  },
  "language_info": {
   "codemirror_mode": {
    "name": "ipython",
    "version": 3
   },
   "file_extension": ".py",
   "mimetype": "text/x-python",
   "name": "python",
   "nbconvert_exporter": "python",
   "pygments_lexer": "ipython3",
   "version": "3.10.12"
  }
 },
 "nbformat": 4,
 "nbformat_minor": 2
}
